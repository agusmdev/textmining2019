{
 "cells": [
  {
   "cell_type": "code",
   "execution_count": 5,
   "metadata": {},
   "outputs": [],
   "source": [
    "import spacy\n",
    "from tqdm import tqdm\n",
    "from collections import defaultdict\n",
    "from sklearn.pipeline import Pipeline\n",
    "from nltk.stem import WordNetLemmatizer\n",
    "from sklearn.feature_extraction import DictVectorizer\n",
    "from sklearn.decomposition import TruncatedSVD\n",
    "from sklearn.cluster import KMeans\n",
    "import numpy as np\n",
    "from collections import defaultdict\n"
   ]
  },
  {
   "cell_type": "code",
   "execution_count": 8,
   "metadata": {},
   "outputs": [],
   "source": [
    "class SentencesIterator:\n",
    "    def __init__(self, path):\n",
    "        self.path = path\n",
    "\n",
    "    def __iter__(self):\n",
    "        with open(self.path, 'r') as f:\n",
    "            for l in f.readlines():\n",
    "                yield l.strip()"
   ]
  },
  {
   "cell_type": "code",
   "execution_count": 9,
   "metadata": {},
   "outputs": [
    {
     "ename": "FileNotFoundError",
     "evalue": "[Errno 2] No such file or directory: 'xaa'",
     "output_type": "error",
     "traceback": [
      "\u001b[0;31m---------------------------------------------------------------------------\u001b[0m",
      "\u001b[0;31mFileNotFoundError\u001b[0m                         Traceback (most recent call last)",
      "\u001b[0;32m<ipython-input-9-1a2c113ba6de>\u001b[0m in \u001b[0;36m<module>\u001b[0;34m\u001b[0m\n\u001b[1;32m      1\u001b[0m \u001b[0msentences\u001b[0m \u001b[0;34m=\u001b[0m \u001b[0mSentencesIterator\u001b[0m\u001b[0;34m(\u001b[0m\u001b[0;34m'xaa'\u001b[0m\u001b[0;34m)\u001b[0m\u001b[0;34m\u001b[0m\u001b[0;34m\u001b[0m\u001b[0m\n\u001b[0;32m----> 2\u001b[0;31m \u001b[0msents\u001b[0m \u001b[0;34m=\u001b[0m \u001b[0mlist\u001b[0m\u001b[0;34m(\u001b[0m\u001b[0msentences\u001b[0m\u001b[0;34m)\u001b[0m\u001b[0;34m\u001b[0m\u001b[0;34m\u001b[0m\u001b[0m\n\u001b[0m",
      "\u001b[0;32m<ipython-input-8-be9c4f99b5a6>\u001b[0m in \u001b[0;36m__iter__\u001b[0;34m(self)\u001b[0m\n\u001b[1;32m      4\u001b[0m \u001b[0;34m\u001b[0m\u001b[0m\n\u001b[1;32m      5\u001b[0m     \u001b[0;32mdef\u001b[0m \u001b[0m__iter__\u001b[0m\u001b[0;34m(\u001b[0m\u001b[0mself\u001b[0m\u001b[0;34m)\u001b[0m\u001b[0;34m:\u001b[0m\u001b[0;34m\u001b[0m\u001b[0;34m\u001b[0m\u001b[0m\n\u001b[0;32m----> 6\u001b[0;31m         \u001b[0;32mwith\u001b[0m \u001b[0mopen\u001b[0m\u001b[0;34m(\u001b[0m\u001b[0mself\u001b[0m\u001b[0;34m.\u001b[0m\u001b[0mpath\u001b[0m\u001b[0;34m,\u001b[0m \u001b[0;34m'r'\u001b[0m\u001b[0;34m)\u001b[0m \u001b[0;32mas\u001b[0m \u001b[0mf\u001b[0m\u001b[0;34m:\u001b[0m\u001b[0;34m\u001b[0m\u001b[0;34m\u001b[0m\u001b[0m\n\u001b[0m\u001b[1;32m      7\u001b[0m             \u001b[0;32mfor\u001b[0m \u001b[0ml\u001b[0m \u001b[0;32min\u001b[0m \u001b[0mf\u001b[0m\u001b[0;34m.\u001b[0m\u001b[0mreadlines\u001b[0m\u001b[0;34m(\u001b[0m\u001b[0;34m)\u001b[0m\u001b[0;34m:\u001b[0m\u001b[0;34m\u001b[0m\u001b[0;34m\u001b[0m\u001b[0m\n\u001b[1;32m      8\u001b[0m                 \u001b[0;32myield\u001b[0m \u001b[0ml\u001b[0m\u001b[0;34m.\u001b[0m\u001b[0mstrip\u001b[0m\u001b[0;34m(\u001b[0m\u001b[0;34m)\u001b[0m\u001b[0;34m\u001b[0m\u001b[0;34m\u001b[0m\u001b[0m\n",
      "\u001b[0;31mFileNotFoundError\u001b[0m: [Errno 2] No such file or directory: 'xaa'"
     ]
    }
   ],
   "source": [
    "sentences = SentencesIterator('xaa')\n",
    "sents = list(sentences)"
   ]
  },
  {
   "cell_type": "code",
   "execution_count": 10,
   "metadata": {},
   "outputs": [],
   "source": [
    "\n",
    "class FeatureExtractor:\n",
    "    def __init__(self, disable_pipe=['parser', 'ner'], max_sents=3000, spacy_model='es_core_news_sm'):\n",
    "        self._nlp = spacy.load(spacy_model)\n",
    "        self.vocabulary = []\n",
    "        self._max_sents = max_sents\n",
    "        self._disable_pipe = disable_pipe\n",
    "    \n",
    "    @staticmethod\n",
    "    def _tag_sent(sent):\n",
    "        return '< < {} > >'.format(sent)\n",
    "    \n",
    "    def _processing(self, sents):\n",
    "        tokens = []\n",
    "        for sent in sents[:self._max_sents]:\n",
    "            if len(sent) > 7:\n",
    "                tokens.append([token for token in self._nlp(self._tag_sent(sent), disable=self._disable_pipe)])\n",
    "        return tokens\n",
    "        \n",
    "        \n",
    "    def _make_feature_dict(self, doc):\n",
    "        wordnet_lemmatizer = WordNetLemmatizer()\n",
    "        document_features = []\n",
    "        \n",
    "        for i, token in enumerate(doc):\n",
    "            if token.text not in ['<', '>']:\n",
    "                features = {\n",
    "                    'word': token.text,\n",
    "                    'pword': doc[i-1].text,\n",
    "                    'ppword': doc[i-2].text,\n",
    "                    'nword': doc[i+1].text,\n",
    "                    'nnword': doc[i+2].text,\n",
    "                    'pword_tag': doc[i-1].pos_,\n",
    "                    'ppword_tag': doc[i-2].pos_,\n",
    "                    'nword_tag': doc[i+1].pos_,\n",
    "                    'nnword_tag': doc[i+2].pos_,\n",
    "                    'is_lower': token.is_lower,\n",
    "                    'POS': token.pos_,\n",
    "                    'lemma': wordnet_lemmatizer.lemmatize(token.text, pos='v'),\n",
    "                    'is_stop': token.is_stop,\n",
    "                    'is_oov': token.is_oov,\n",
    "                }\n",
    "                document_features.append(features)\n",
    "                self.vocabulary.append(token.text)\n",
    "        return document_features\n",
    "    \n",
    "    #Return self nothing else to do here    \n",
    "    def fit(self, X, y=None):\n",
    "        return self \n",
    "    \n",
    "    #Method that describes what we need this transformer to do\n",
    "    def transform(self, sents, y=None):\n",
    "        tokens = []\n",
    "        for doc in self._processing(sents):\n",
    "            tokens += self._make_feature_dict(doc)\n",
    "\n",
    "        return np.array(tokens)"
   ]
  },
  {
   "cell_type": "code",
   "execution_count": 11,
   "metadata": {},
   "outputs": [
    {
     "ename": "NameError",
     "evalue": "name 'sents' is not defined",
     "output_type": "error",
     "traceback": [
      "\u001b[0;31m---------------------------------------------------------------------------\u001b[0m",
      "\u001b[0;31mNameError\u001b[0m                                 Traceback (most recent call last)",
      "\u001b[0;32m<ipython-input-11-f36469451755>\u001b[0m in \u001b[0;36m<module>\u001b[0;34m\u001b[0m\n\u001b[0;32m----> 1\u001b[0;31m \u001b[0ma\u001b[0m \u001b[0;34m=\u001b[0m \u001b[0mFeatureExtractor\u001b[0m\u001b[0;34m(\u001b[0m\u001b[0;34m)\u001b[0m\u001b[0;34m.\u001b[0m\u001b[0mtransform\u001b[0m\u001b[0;34m(\u001b[0m\u001b[0msents\u001b[0m\u001b[0;34m)\u001b[0m\u001b[0;34m\u001b[0m\u001b[0;34m\u001b[0m\u001b[0m\n\u001b[0m",
      "\u001b[0;31mNameError\u001b[0m: name 'sents' is not defined"
     ]
    }
   ],
   "source": [
    "a = FeatureExtractor().transform(sents)"
   ]
  },
  {
   "cell_type": "code",
   "execution_count": 44,
   "metadata": {},
   "outputs": [
    {
     "data": {
      "text/plain": [
       "array([{'word': 'Keystone', 'pword': '<', 'ppword': '<', 'nword': 'Dakota', 'nnword': 'del', 'pword_tag': 'NOUN', 'ppword_tag': 'VERB', 'nword_tag': 'PROPN', 'nnword_tag': 'ADP', 'is_lower': False, 'POS': 'PROPN', 'lemma': 'Keystone', 'is_stop': False, 'is_oov': True},\n",
       "       {'word': 'Dakota', 'pword': 'Keystone', 'ppword': '<', 'nword': 'del', 'nnword': 'Sur', 'pword_tag': 'PROPN', 'ppword_tag': 'NOUN', 'nword_tag': 'ADP', 'nnword_tag': 'PROPN', 'is_lower': False, 'POS': 'PROPN', 'lemma': 'Dakota', 'is_stop': False, 'is_oov': True},\n",
       "       {'word': 'del', 'pword': 'Dakota', 'ppword': 'Keystone', 'nword': 'Sur', 'nnword': '>', 'pword_tag': 'PROPN', 'ppword_tag': 'PROPN', 'nword_tag': 'PROPN', 'nnword_tag': 'PROPN', 'is_lower': True, 'POS': 'ADP', 'lemma': 'del', 'is_stop': True, 'is_oov': True}],\n",
       "      dtype=object)"
      ]
     },
     "execution_count": 44,
     "metadata": {},
     "output_type": "execute_result"
    }
   ],
   "source": [
    "a[:3]"
   ]
  },
  {
   "cell_type": "code",
   "execution_count": 6,
   "metadata": {},
   "outputs": [],
   "source": [
    "class ExtendedKMeans(KMeans):\n",
    "    def __init__(self):\n",
    "        self.clusters = defaultdict(set)\n",
    "        super().__init__()\n",
    "        \n",
    "    def get_clusters(self, labels, vocabulary):\n",
    "        for i, label in enumerate(labels):\n",
    "            self.clusters[label].add(vocabulary[i])\n",
    "        return dict(self.clusters).values()"
   ]
  },
  {
   "cell_type": "code",
   "execution_count": 7,
   "metadata": {},
   "outputs": [
    {
     "ename": "NameError",
     "evalue": "name 'FeatureExtractor' is not defined",
     "output_type": "error",
     "traceback": [
      "\u001b[0;31m---------------------------------------------------------------------------\u001b[0m",
      "\u001b[0;31mNameError\u001b[0m                                 Traceback (most recent call last)",
      "\u001b[0;32m<ipython-input-7-b118b18271b7>\u001b[0m in \u001b[0;36m<module>\u001b[0;34m\u001b[0m\n\u001b[1;32m     20\u001b[0m \u001b[0;34m\u001b[0m\u001b[0m\n\u001b[1;32m     21\u001b[0m pipeline = Pipeline([\n\u001b[0;32m---> 22\u001b[0;31m                 \u001b[0;34m(\u001b[0m\u001b[0;34m'preprocessor'\u001b[0m\u001b[0;34m,\u001b[0m \u001b[0mFeatureExtractor\u001b[0m\u001b[0;34m(\u001b[0m\u001b[0;34m**\u001b[0m\u001b[0mf_e_config\u001b[0m\u001b[0;34m)\u001b[0m\u001b[0;34m)\u001b[0m\u001b[0;34m,\u001b[0m\u001b[0;34m\u001b[0m\u001b[0;34m\u001b[0m\u001b[0m\n\u001b[0m\u001b[1;32m     23\u001b[0m                 \u001b[0;34m(\u001b[0m\u001b[0;34m'vect'\u001b[0m\u001b[0;34m,\u001b[0m \u001b[0mDictVectorizer\u001b[0m\u001b[0;34m(\u001b[0m\u001b[0;34m**\u001b[0m\u001b[0mvectorizer_config\u001b[0m\u001b[0;34m)\u001b[0m\u001b[0;34m)\u001b[0m\u001b[0;34m,\u001b[0m\u001b[0;34m\u001b[0m\u001b[0;34m\u001b[0m\u001b[0m\n\u001b[1;32m     24\u001b[0m                 \u001b[0;34m(\u001b[0m\u001b[0;34m'svd'\u001b[0m\u001b[0;34m,\u001b[0m \u001b[0mTruncatedSVD\u001b[0m\u001b[0;34m(\u001b[0m\u001b[0;34m**\u001b[0m\u001b[0msvd_config\u001b[0m\u001b[0;34m)\u001b[0m\u001b[0;34m)\u001b[0m\u001b[0;34m,\u001b[0m\u001b[0;34m\u001b[0m\u001b[0;34m\u001b[0m\u001b[0m\n",
      "\u001b[0;31mNameError\u001b[0m: name 'FeatureExtractor' is not defined"
     ]
    }
   ],
   "source": [
    "f_e_config = {\n",
    "    'max_sents' : 300,\n",
    "}\n",
    "\n",
    "vectorizer_config = {\n",
    "        'sparse': False\n",
    "}\n",
    "svd_config = {\n",
    "        'n_components': 14,\n",
    "        'random_state': 666,\n",
    "        'n_iter': 15,\n",
    "}\n",
    "kmeans_config = {\n",
    "        'n_clusters': 45,\n",
    "        'random_state': 666,\n",
    "        'init': 'random',\n",
    "        'precompute_distances': False,\n",
    "}\n",
    "\n",
    "\n",
    "pipeline = Pipeline([\n",
    "                ('preprocessor', FeatureExtractor(**f_e_config)),\n",
    "                ('vect', DictVectorizer(**vectorizer_config)),\n",
    "                ('svd', TruncatedSVD(**svd_config)),\n",
    "                ('kmeans', ExtendedKMeans(**kmeans_config)),\n",
    "            ])\n",
    "\n"
   ]
  },
  {
   "cell_type": "code",
   "execution_count": null,
   "metadata": {},
   "outputs": [],
   "source": [
    "pipeline"
   ]
  },
  {
   "cell_type": "code",
   "execution_count": null,
   "metadata": {},
   "outputs": [],
   "source": [
    "labels = pipeline.fit_predict(sents)"
   ]
  },
  {
   "cell_type": "code",
   "execution_count": 65,
   "metadata": {},
   "outputs": [],
   "source": [
    "from collections import defaultdict\n",
    "words = pipeline.named_steps['preprocessor'].vocabulary\n",
    "words_dict = defaultdict(set)\n",
    "for i, label in enumerate(labels):\n",
    "    words_dict[label].add(words[i])\n",
    "words_dict = dict(words_dict)\n"
   ]
  },
  {
   "cell_type": "code",
   "execution_count": 66,
   "metadata": {},
   "outputs": [
    {
     "name": "stdout",
     "output_type": "stream",
     "text": [
      "{'Recibía', 'Louis', 'Contó', 'Nacional', 'Apoya', 'Carrie', 'Situado', 'Viajan', 'Le', 'Trotsky', 'Cooperstown', 'Siempre', 'Habilitado', 'Dique', 'Amanita', 'También', 'Traducción', 'No', 'Se', 'Laurens', 'Gilbertsville', 'Miembro', 'Copa', 'Retoma', 'Alrededor', 'Rosmer', 'Aparecerían', 'Keystone', 'Origen', 'Rechazan', 'Ejemplar', 'Contrario', 'Stevenson', 'Alfred', 'Morris', 'Monatte', 'Cuando', 'Cherry', 'CGT', 'Vuelve', 'Anima', 'Es', 'Fallece', 'Richfield', 'Clasificaron', 'Además', 'A', 'Produce', 'Suele', 'Christian', 'Entra', 'Treint', 'Participa', 'Va', 'En', 'Sinónimos', 'Santiago', 'Hoy', 'Esto', 'Cuenta', 'Otego', 'Igualmente', 'Desaprobado', 'Fue', 'Swanzey', 'Nunca', 'Final', 'Milford', 'Giovacchini', 'Creación', 'Tras'}\n",
      "{'Real', 'Provincia', 'Grasset', 'VO', 'Tungus', 'Trotsky', 'Horak', 'Marguerite', 'Molinier', 'Formación', 'Díez', 'Étudiants', 'Cachin', 'Rosmer', 'Deseado', 'SFIC', 'Congo', 'DIMAT', 'Alfred', 'du', 'Compañía', 'Ejecutivo', 'Democrática', 'DIGITO', 'Ferrocarril', 'Comunista', 'Yessey', 'Limacella', 'Mary', 'Potosí', 'Aurora', 'Lopera', 'Dakota', 'Montevideo', 'Griot', 'Kurt', 'Donovan', 'Abu', 'Geneviève', 'Grigori', 'Losovski', 'Pierre', 'Historia', 'Martov', 'Mauá', 'Campeón', 'Valley', 'Cardinals', 'Lepetit', 'Atlético', 'Vaca', 'Lefebvre', 'América', 'Nelson', 'Partido', 'Stevenson', 'Greco', 'Museo', 'Pampa', 'Franchet', 'Fayod', 'Ingalls', 'australis', 'Souvarine', 'Zinóviev', 'Greta', 'Monnate', 'René', 'Suvarin', 'Memorial', 'Bolivar', 'Mundial', 'Boris', 'Monatte', 'Francesa', 'Дунай', 'Dirección', 'Álvarez', 'Samuel', 'Bujarín', 'Bolívar', 'Vie', 'Springs', 'Sur', 'Guzmán', 'Central', 'Testamento', 'México', 'Dhabi', 'Ligas', 'Christian', 'Norte', 'Internacional', 'Chennevier', 'Eto', 'Nacional', 'Dunay', 'Polar', 'Marbán', 'Tintoretto', 'Vanyady', 'National', 'Alta', 'L', 'Keystone', 'Callejas', 'Sindicalista', 'ouvrière', 'Landau', 'Unidos', 'Universitario', 'Vérité', 'Nikolái', 'Ártico', 'Lenin', 'Nothofagus', 'PCF', 'Gras'}\n",
      "{'como', 'sin', 'desde', 'entre', 'para', 'a', 'tras', 'del', 'el', 'sobre', 'con', 'por', 'hasta', 'al', 'en', 'de', 'bajo'}\n",
      "{'Béisbol', 'Real', 'Londres', 'Romain', 'África', 'Cooperstown', 'Trotsky', 'Gaston', 'Molinier', 'Laurens', 'Moscú', 'Rambla', 'Rosmer', 'Comité', 'SFIC', 'Suiza', 'Alfred', 'Patterson', 'Morris', 'Congreso', 'Ejecutivo', 'Turquía', 'Giacomo', 'Ferrocarril', 'Beni', 'Macorís', 'A', 'Treint', 'República', 'Dakota', 'Borís', 'París', 'Coyoacan', 'Egon', 'Zimmerwald', 'Trotski', 'Mauá', 'Tirol', 'Kronstadt', 'España', 'Inglaterra', 'María', 'Victor', 'San', 'Komintern', 'Nueva', 'Estados', 'América', 'Gas', 'Partido', 'Rusia', 'Adrien', 'Madrid', 'Oro', 'Mayo', 'Material', 'Alexei', 'Lyon', 'Ibsen', 'Vergeat', 'Monte', 'Zinóviev', 'Pacífico', 'Monnate', 'Balón', 'Monatte', 'género', 'Uruguay', 'Black', 'Tríptico', 'Prado', 'Ing', 'Puerto', 'Irineu', 'Albert', 'Créteil', 'Santa', 'Bélgica', 'Karl', 'Strunz', 'Sur', 'Norte', 'Sousa', 'Sieva', 'Milford', 'Montrouge', 'Censo', 'Gallimard', 'Krasnoyarsk', 'Amédée', 'Keystone', 'Au', 'Servicio', 'Murmansk', 'Cherry', 'Europa', 'Pando', 'Francia', 'Módena', 'Ártico', 'Estado', 'Lenin', 'Láptev', 'Granada', 'Tours', 'Otego', 'Frossard', 'Construcciones', 'Milán', 'Marguerite'}\n",
      "{'es', 'desde', 'para', 'tiene', 'a', 'del', 'con', 'no', 'durante', 'por', 'en', 'de', 'bajo', 'encuentra'}\n",
      "{'varias', 'es', 'su', 'tercera', 'las', 'otra', 'los', 'sus', 'como', 'lo', 'pequeño', 'la', 'una', 'nuevo', 'el', 'dicha', 'estas', 'un', 'otras', 'vasta', 'dos', 'nuevas', 'esta', 'recoger', 'ese', 'mucho', 'cada'}\n",
      "{'dique', 'texto', 'dirigentes', 'mineral', 'escisión', 'profundidad', 'cooperación', 'día', 'densidad', 'delegado', 'exámenes', 'meseta', 'combate', 'movimiento', 'vez', 'representante', 'muestras', 'delegados', 'dos', 'frío', 'peces', 'artículos', 'estación', 'formas', 'obra', 'pasión', 'fosfatos', 'islas', 'casa', 'minoritarios', 'concurso', 'cuadros', 'particulares', 'pueblo', 'trabajos', 'clases', 'composición', 'partidos', 'definición', 'grupo', 'crítica', 'crímenes', 'superficie', 'equipo', 'auge', 'período', 'carrera', 'asesinato', 'tendencia', 'corrector', 'estafeta', 'campeones', 'discursos', 'tren', 'editor', 'especie', 'forma', 'arcángel', 'encuentros', 'equipaje', 'herramienta', 'nothofagi', 'actividad', 'kupafrita', 'vida', 'lanzador', 'difusión', 'huelgas', 'canon', 'periódico', 'ajuste', 'sindicalista', 'servicios', 'llanura', 'localidad', 'hombres', 'cuerpos', 'radicalmente', 'parlamentarismo', 'personas', 'tiempo', 'tomo', 'asociaciones', 'problemas', 'amistad', 'talleres', 'comité', 'domingo', 'hongos', 'anillo', 'manifiesto', 'parte', 'instancia', 'arseniato', 'villa', 'padre', 'ingresos', 'mundo', 'triunfo', 'publicación', 'relación', 'partido', 'nexo', 'asunto', 'informe', 'revolución', 'laminillas', 'abuelo'}\n",
      "{'era', 'más', 'blanca', 'diferente', 'situadas', 'hidrotermales', 'adicionales', 'debe', 'recogidas', 'inferior', 'Moscú', 'nmombre', 'clandestina', 'turísticos', 'político', 'mayores', 'cercano', 'directamente', 'medios', 'ubicada', 'accederán', 'coloniales', 'reformistas', 'publicado', 'pagado', 'está', 'Krai', 'dirigiéndose', 'blanco', 'simple', 'venenoso', 'realizada', 'dulce', 'únicamente', 'pacifista', 'capacitados', 'clásico', 'primordial', 'común', 'general', 'habilitaban', 'reforzado', 'seco', 'procede', 'libre', 'presentada', 'ubicado', 'rural', 'nacional', 'bolcheviques', 'verbal', 'veneciano', 'Aprovecha', 'suficientes', 'como', 'obrero', 'importante', 'jardín', 'serán', 'eran', 'obrera', 'contitutivo', 'II', 'francés', 'están', 'costeras', 'estadounidense', 'Dunay', 'doloroso', 'fructíferos', 'teatral', 'firmando', 'buró', 'ligada', 'estaban', 'tradicionales', 'será', 'afirmando', 'leninista', 'poblacional', 'parisinas', 'ejecutivo', 'endémica', 'impulsada', 'y', 'total', 'salido', 'circuló', 'africano', 'internacionales', 'estalinistas'}\n",
      "{'otros', 'varias', 'primera', 'su', 'estos', 'La', 'el', 'las', 'mal', 'otras', 'los', 'un', 'este', 'la', 'primer', 'una', 'mismo', 'pleno'}\n",
      "{'figura', 'vuelta', 'obra', 'tiempo', 'procesos', 'oro', 'región', 'exclusión', 'salón', 'partida', 'estaciones', 'presencia', 'ocasiones', 'excepción', 'condado', 'franceses', 'clasificación', 'provincia', 'orígenes', 'población', 'notas', 'encuentro', 'administración', 'congreso', 'grabado', 'hombre', 'tesis', 'proyecto', 'obras', 'represión', 'militantes', 'vez', 'censo', 'récord', 'diferencia', 'vínculos', 'pseudónimo', 'regreso', 'participación', 'motivo', 'informe', 'influencias', 'nombre', 'conferencia', 'discurso', 'mar', 'indirecto', 'mano', 'artículos'}\n",
      "{'como', 'para', 'a', 'del', 'con', 'sobre', 'en', 'al', 'de'}\n",
      "{'Francesa', 'Censo', 'oxidación', 'raíz', 'bosque', 'Sajá', 'Clubes', 'noviembre', 'Mazembe', 'sur', 'interesarse', 'Trotsky', 'resolución', 'sindicato', 'Yugoslavia', 'vida', 'estudios', 'terminar', 'Moscú', 'Comité', 'miradas', 'margen', 'contrario', 'ellos', 'una', 'hongo', 'Río', 'desarrollo', 'Otsego', 'hogar', 'manos', 'desacuerdo', 'partido', 'prefacios', 'o', 'favor', 'politburó', 'diciembre', 'contra', 'diferencia', 'país', 'acuerdo', 'Tiziano', 'pagar', 'investigación', 'Treint', 'diferencias', 'Lenin', 'partir', 'fuerza', 'teatro', 'leer', 'Pennington', 'total', 'Suvarin', 'patrimonio', 'cuanto', 'cápita', 'Buques', 'jefe', 'empleado', 'Lille', 'Manifiesto'}\n",
      "{'desde', 'entre', 'para', 'a', 'tras', 'del', 'con', 'según', 'sobre', 'por', 'en', 'al', 'contra', 'hacia', 'de', 'durante'}\n",
      "{'relaciones', 'entonces', 'sitio', 'pasajeros', 'monumental', 'reunión', 'centro', 'época', 'territorio', 'fórmula', 'movimiento', 'anarcosindicalistas', 'sindicatos', 'mayores', 'delegados', 'países', 'géneros', 'medios', 'estación', 'basidiomiceto', 'series', 'viviendas', 'obra', 'islas', 'región', 'actualidad', 'visión', 'cuenca', 'división', 'estructuras', 'población', 'revista', 'elocuencia', 'diez', 'capacidades', 'organizaciones', 'grupo', 'yacimientos', 'superficie', 'tipo', 'ciudad', 'carrera', 'alrededores', 'enseñanza', 'parlamentarios', 'especie', 'unión', 'ocasiones', 'guerra', 'vida', 'guerras', 'área', 'petit', 'estado', 'periódico', 'unanimidad', 'teatro', 'cultura', 'que', 'discurso', 'puntos', 'localidad', 'naturaleza', 'imágenes', 'discusiones', 'tiempo', 'tomo', 'siglo', 'problemas', 'autores', 'buró', 'cuales', 'mêlée', 'congreso', 'parte', 'instancia', 'reparación', 'paraje', 'publicación', 'atractivos', 'pradera', 'interesado', 'militantes', 'mayorías', 'llave', 'clase', 'verosímil', 'carne'}\n",
      "{'para', 'a', 'del', 'el', 'así', 'sobre', 'por', 'le', 'se', 'ser', 'en', 'al', 'que', 'allí', 'de'}\n",
      "{'Casi', 'Pero', 'Defiende', 'Tuvo', 'Recibe', 'Destacan', 'Durante', 'Finalizado', 'Organiza', 'Entre', 'Tiene', 'Su', 'Es', 'A', 'Hasta', 'Según', 'De', 'Por', 'En', 'Para', 'Tras'}\n",
      "{'Estadio', 'VO', 'Cuarta', 'Comisión', 'Departamento', 'Comité', 'Rosmer', 'Deseado', 'Patagónico', 'Sección', 'Congreso', 'Naval', 'Ejecutivo', 'DIGITO', 'FIFA', 'Monmousseau', 'CGTU', 'Treint', 'República', 'Oficina', 'Grandes', 'Pedro', 'Temps', 'Gauche', 'Humanidad', 'Historia', 'España', 'Amanita', 'Estados', 'Inter', 'Austria', 'Copa', 'Partido', 'Greco', 'Verité', 'Museo', 'Barón', 'CGT', 'York', 'Thevenet', 'Virgen', 'Evangelista', 'Suvarin', 'Boletín', 'Batalla', 'Camus', 'Λίθος', 'Lilas', 'Dique', 'Oudemansiella', 'Vie', 'Sur', 'área', 'Liga', 'Comités', 'Rotoiti', 'Conmebol', 'Armada', 'Internacional', 'UEFA', 'Histoire', 'Biblia', 'Censo', 'Isla', 'Mamore', 'IIIa', 'Tercera', 'Cruz', 'Parque', 'Círculo', 'Heras', 'Federación', 'Unidos', 'Reparaciones', 'Lena', 'Francia', 'Острова', 'Eno', 'B', 'Ессей', 'Final', 'Conferencia', 'Lagos'}\n",
      "{'entre', 'del', 'el', 'hasta', 'en', 'de', 'eran'}\n",
      "{'DIGITO'}\n",
      "{'DIGITO'}\n",
      "{'DIGITO'}\n",
      "{'Alfred', 'DIGITO'}\n",
      "{'es', 'observa', 'inauguró', 'era', 'sabe', 'diferente', 'entonces', 'no', 'jugaría', 'dirigió', 'cuentas', 'llevan', 'publica', 'vuelve', 'encontrar', 'efectuar', 'existía', 'firma', 'manteniendo', 'vender', 'presentó', 'anular', 'pasar', 'claramente', 'nombrado', 'llavar', 'definió', 'haciendo', 'imponer', 'obtener', 'su', 'emplazaba', 'los', 'privilegia', 'renueva', 'finalizaría', 'organizar', 'tiene', 'preveía', 'años', 'revise', 'el', 'reside', 'publicar', 'había', 'critica', 'circular', 'encuentra', 'a', 'apoya', 'al', 'encuentran', 'minimizar', 'son', 'formalizar', 'da', 'defiende', 'reúne', 'convierte', 'como', 'fue', 'quien', 'nouveaux', 'trazará', 'la', 'votaron', 'una', 'brochantita', 'o', 'impedir', 'mantiene', 'aprobar', 'globalmente', 'forman', 'denuncia', 'que', 'todos', 'implica', 'conservó', 'pasó', 'donde', 'posee', 'XVII', 'prefacia', 'afrontar', 'tenían', 'siempre', 'igualmente', 'tenía', 'sus', 'aprende', 'ver', 'tanto', 'atienden', 'pasaba', 'ouvrière', 'finalmente', 'instalar', 'macrospora', 'atractivo', 'será', 'logró', 'un', 'prima', 'efectúa', 'otros', 'y', 'conserva', 'toma', 'internacionales'}\n",
      "{'toda', 'sea', 'primera', 'su', 'con', 'mejor', 'por', 'las', 'gran', 'mientras', 'los', 'mismo', 'sus', 'como', 'tiene', 'La', 'varios', 'segunda', 'la', 'primer', 'una', 'dar', 'el', 'pocos', 'un', 'hace', 'cuatro', 'tres', 'dos', 'sean', 'a', 'él', 'del', 'pronto', 'última', 'en', 'al'}\n",
      "{'es', 'se', 'personas', 'frente', 'forma', 'pasa', 'corresponden', 'hispanos', 'historiador', 'como', 'departamentales', 'años', 'viajan', 'cerca', 'eran', 'blancos', 'milímetros', 'hab', 'habitantes', 'basándose', 'gracias', 'a', 'presta', 'y', 'cercano', 'abandonando', 'donde'}\n",
      "{'primera', 'su', 'mejor', 'tercera', 'unos', 'las', 'algunos', 'los', 'mismo', 'sus', 'como', 'duro', 'segunda', 'este', 'la', 'una', 'el', 'un', 'esa', 'cualquier', 'El', 'pequeñas', 'cada', 'hacer'}\n",
      "{'como', 'desde', 'entre', 'sin', 'a', 'su', 'del', 'con', 'por', 'al', 'en', 'un', 'de', 'una'}\n",
      "{'junio', 'chismes', 'sindicalismo', 'perdedor', 'destructivos', 'internationalistes', 'pobreza', 'seguros', 'fase', 'movimiento', 'ascenso', 'publicarse', 'zorros', 'piedra', 'impureza', 'oriente', 'litos', 'dehabitada', 'socialistas', 'prosperó', 'beisbol', 'sindicato', 'torneo', 'participa', 'visitadora', 'pondrá', 'roja', 'equipos', 'únicamente', 'msnm', 'cretense', 'el', 'micorrizas', 'prensa', 'bien', 'tricalcita', 'grupo', 'km²', 'setas', 'yacimientos', 'joven', 'forma', 'destino', 'diámetro', 'combinación', 'ocasiones', 'socialismo', 'como', 'agua', 'drástico', 'preparado', 'allá', 'limpia', 'o', 'contra', 'francés', 'camerunés', 'razas', 'carbonato', 'vuelta', 'crisocola', 'ángeles', 'révolutionnaires', 'tronco', 'control', 'anarquista', 'inevitable', 'prefectura', 'militantes', 'delicada', 'biógrafo', 'amerindios', 'interesan', 'ríos', 'altamente', 'kilómetros', 'y', 'amigos', 'jamás'}\n",
      "{'es', 'italiano', 'completos', 'se', 'mejor', 'típicamente', 'está', 'per', 'zinovievista', 'dirigentes', 'jugarán', 'participa', 'como', 'fueron', 'opera', 'fue', 'mejores', 'no', 'primeros', 'máxima', 'rusos', 'Albert', 'totalmente', 'cuando', 'hueco', 'III', 'Sección', 'naval', 'o', 'Yessey', 'Es', 'ferroviaria', 'amarronados', 'personal', 'a', 'están', 'minero', 'y', 'internacionalista', 'que', 'internas', 'orgánica'}\n",
      "{'es', 'se', 'tornería', 'más', 'aprueba', 'entonces', 'sujetas', 'abandonará', 'si', 'rico', 'afinado', 'no', 'pudo', 'obligatoria', 'aunque', 'murió', 'Les', 'firma', 'e', 'descubierta', 'jugará', 'blancas', 'construida', 'dos', 'esta', 'barbero', 'comunista', 'pudiéndose', 'consiguió', 'antiguo', 'cargado', 'ya', 'seguir', 'está', 'niegan', 'lo', 'tyrolita', 'llevar', 'encontrarse', 'anunciación', 'le', 'quería', 'logradas', 'elegido', 'reparar', 'surten', 'principal', 'el', 'puede', 'queda', 'intentan', 'allí', 'kmDIGITO', 'encuentra', 'australis', 'amerimuscaria', 'a', 'El', 'cuesta', 'tirolita', 'encuentran', 'u', 'incluso', 'bebían', 'mucho', 'después', 'también', 'originalmente', 'azurita', 'algunas', 'hay', 'convierte', 'fue', 'muy', 'estaba', 'crea', 'realizó', 'descrito', 'habitada', 'firmado', 'creía', 'grandes', 'o', 'admitido', 'otras', 'que', 'todos', 'tan', 'donde', 'especificó', 'bastante', 'translitera', 'siempre', 'raro', 'poco', 'les', 'franchetii', 'extraordinaria', 'aleja', 'entabla', 'nunca', 'ser', 'disidente', 'retoma', 'emancipada', 'efectúa', 'asiáticos', 'y', 'describió', 'derrotó', 'pero', 'permaneció'}\n",
      "{'es', 'para', 'se', 'más', 'ª', 'entonces', 'de', 'no', 'mouvement', 'sí', 'difiere', 'enfrentándose', 'sobre', 'emitía', 'intentó', 'numerosos', 'intensamente', 'nombrado', 'm', 'antiguo', 'colabora', 'con', 'anteriormente', 'opuso', 'intentaban', 'ocupa', 'reemplazar', 'adherido', 'puede', 'próximas', 'realiza', 'había', 'encuentra', 'km²', 'a', 'del', 'nombrada', 'haber', 'permitía', 'da', 'forma', 'despachaba', 'como', 'fue', 'futuro', 'visto', 'propias', 'estaba', 'eran', 'clubes', 'considerada', 'o', 'contra', 'mostró', 'están', 'que', 'º', 'ejerció', 'donde', 'communiste', 'les', 'totalmente', 'realmente', 'ouvrière', 'reunió', 'macrospora', 'misteriosamente', 'será', 'ha', 'hace', 'justo', 'permanece', 'siente', 'y', 'en', 'asociasiones', 'pero', 'participar'}\n",
      "{'encontrado', 'militó', 'enfrentarse', 'sitúa', 'atraído', 'compuesto', 'adhiere', 'carpintería', 'descargado', 'dimite', 'cubierta', 'viviendo', 'encargan', 'conservada', 'antes', 'Congreso', 'vez', 'inaugurado', 'debido', 'jugó', 'favorable', 'permanecen', 'formado', 'cubiertos', 'enviado', 'acepta', 'paticipa', 'ilustró', 'exiliados', 'directamente', 'tamaño', 'ubicada', 'accederán', 'rendirá', 'perteneciente', 'meses', 'obtiene', 'colabora', 'consagró', 'seguir', 'lanza', 'diseminados', 'participa', 'someter', 'amateur', 'reemplaza', 'únicamente', 'respaldado', 'retira', 'elegido', 'produce', 'escasas', 'planeado', 'constituyente', 'centristas', 'así', 'severo', 'desasparecidos', 'divergencias', 'cree', 'encuentra', 'iba', 'ganadores', 'irán', 'km²', 'a', 'transformado', 'luego', 'próximos', 'animadora', 'condujo', 'ejercer', 'latinos', 'ajena', 'ubicado', 'nacional', 'campeones', 'solamente', 'forma', 'denominada', 'reelegido', 'convierte', 'desapareció', 'confundido', 'naturalmente', 'aún', 'reúnen', 'como', 'brillante', 'fuera', 'milita', 'una', 'cerca', 'eran', 'retracta', 'profesa', 'sinónimo', 'sobrevive', 'industrial', 'o', 'todo', 'decide', 'intnetó', 'habitados', 'próximo', 'edición', 'envía', 'frecuentará', 'acudir', 'acercar', 'notablemente', 'conoce', 'correcciones', 'asociado', 'igualmente', 'miembros', 'amistad', 'expcepcionalmente', 'frecuentes', 'congreso', 'parte', 'tanto', 'dessus', 'curioso', 'celebra', 'director', 'iban', 'residiendo', 'subcampeones', 'temporadas', 'distinguida', 'artículo', 'vanadatos', 'divididos', 'unitaria', 'y', 'cubiertas', 'descrita', 'uno', 'encima', 'justificó', 'qué', 'hostil', 'estalinistas'}\n",
      "{'ella', 'arseniatos', 'nacional', 'para', 'se', 'era', 'deñl', 'está', 'alcanza', 'mientras', 'más', 'mal', 'industriales', 'secundario', 'anarquizante', 'I', 'aún', 'separada', 'malaquita', 'si', 'fue', 'sin', 'entre', 'lo', 'no', 'La', 'patagónica', 'inicial', 'cuando', 'hábil', 'la', 'tecnológicas', 'dominicano', 'Éscuela', 'bobinados', 'trotskista', 'anarquista', 'elevada', 'el', 'naval', 'puede', 'tuvo', 'compacto', 'cuyo', 'intelectual', 'mecánica', 'turística', 'hidroxilado', 'comenzó', 'a', 'del', 'y', 'sindicalista', 'pequeñas', 'adulta', 'que', 'rusa', 'nacionales', 'son', 'suele', 'C', 'única', 'donde', 'pero', 'internacionales', 'descrita', 'leirocroíta'}\n",
      "{'votación', 'ruso', 'recuerdos', 'italiano', 'relaciones', 'conciencia', 'desembocadura', 'salón', 'lucha', 'dirigentes', 'mineral', 'valle', 'necesidad', 'día', 'elementos', 'dificultades', 'afiliación', 'guardia', 'visas', 'grupos', 'base', 'vez', 'interés', 'colonia', 'dirección', 'cuestión', 'misión', 'arquitectura', 'artículos', 'posibilidad', 'cargas', 'estación', 'progresión', 'hostilidad', 'zona', 'obra', 'casa', 'recuperación', 'torneo', 'minoritarios', 'idea', 'compañera', 'escritura', 'promedio', 'final', 'recibo', 'momento', 'punto', 'importancia', 'mayoría', 'trabajos', 'contactos', 'marco', 'colaboración', 'acuerdo', 'ganadores', 'despachos', 'concepción', 'grupo', 'declaración', 'eje', 'millones', 'ciudad', 'asesinato', 'árboles', 'venta', 'resto', 'izquierda', 'bolcheviques', 'comisión', 'dictadura', 'actividad', 'alma', 'trabajo', 'guerra', 'agua', 'áreas', 'seno', 'dominio', 'principio', 'conexión', 'difusión', 'redacción', 'ayuda', 'crítico', 'alteración', 'campaña', 'periódico', 'acción', 'clima', 'límites', 'localidad', 'política', 'tutor', 'razas', 'necesidades', 'fundadores', 'familia', 'vías', 'siglo', 'organización', 'orilla', 'congreso', 'fama', 'director', 'despacho', 'desaliño', 'situación', 'infancia', 'caso', 'lugares', 'boceto', 'usos', 'línea', 'progrma', 'creación', 'clase', 'acusaciones', 'nombre', 'amigos', 'revolución', 'reuniones'}\n",
      "{'entre', 'para', 'a', 'del', 'con', 'sobre', 'por', 'hasta', 'en', 'contra', 'ante', 'de', 'durante'}\n",
      "{'junio', 'es', 'isleños', 'familia', 'obra', 'febrero', 'verano', 'corrector', 'noviembre', 'volver', 'particular', 'componía', 'enero', 'miembro', 'guerra', 'mayo', 'marzo', 'julion', 'llevar', 'parte', 'abril', 'especialista', 'bate', 'ejemplo', 'apoyo', 'adherido', 'llegan', 'eliminación', 'firma', 'bateo', 'diciembre', 'todo', 'septiembre', 'octubre', 'acuerdo', 'regreso', 'iniciativa', 'finales', 'grupo', 'partir', 'visitantes', 'viajes', 'total', 'lado', 'todos', 'papel', 'julio'}\n",
      "{'N', 'Zayed', 'Simón', 'Nahuel', 'VO', 'Rolland', 'Rosmer', 'Sainte', 'SFIC', 'Intercontinental', 'Kun', 'Prolétarienne', 'Comunista', 'Dunois', 'Radek', 'A', 'SCRA', 'Geografía', 'CGTU', 'Révolution', 'Montevideo', 'Zelanda', 'Pierre', 'Française', 'Armamento', 'Françoise', 'Valley', 'Nueva', 'Estados', 'Amanitaceae', 'Copa', 'Stalin', 'Stevenson', 'Greco', 'Seco', 'Ignace', 'Dommanget', 'Fernand', 'Sheikh', 'York', 'Caraglio', 'Greta', 'Suvarin', 'Black', 'Roja', 'Dique', 'St', 'Nin', 'IC', 'José', 'francés', 'Embarcadero', 'Armada', 'Internacional', 'Simon', 'Nacional', 'IIIa', 'guilty', 'Estación', 'Hills', 'Plata', 'ISR', 'Naville', 'Cruz', 'Sindical', 'Huapi', 'Loriot', 'Unidos', 'Argentina', 'Reiss', 'Raymond', 'Lenin', 'y', 'Béla', 'prolétarienne', 'Rushmore', 'Comédie', 'Marguerite'}\n",
      "{'es', 'recogidos', 'se', 'era', 'más', 'entonces', 'siendo', 'no', 'finalizó', 'pudo', 'pensaba', 'ubica', 'profundas', 'reapareció', 'publica', 'norte', 'rebautizada', 'avanza', 'inaugurado', 'firma', 'e', 'movilizado', 'tarde', 'apoyan', 'expulsado', 'designa', 'ubicada', 'fundado', 'muere', 'con', 'volver', 'aquí', 'presidiendo', 'apunta', 'juegos', 'opuso', 'reemplazado', 'enfrentaron', 'le', 'fallecido', 'cuando', 'vivía', 'reemplazar', 'creó', 'había', 'pertenecían', 'encuentra', 'pide', 'km²', 'a', 'El', 'son', 'delega', 'Primero', 'naturalmente', 'como', 'fue', 'desarrolló', 'crea', 'la', 'cerca', 'eran', 'construido', 'o', 'aporta', 'remarca', 'que', 'donde', 'ouvrier', 'vivieron', 'nacido', 'révolutionnaires', 'serían', 'impide', 'trasfirió', 'incorpora', 'regresará', 'llegó', 'afroamericanos', 'socialistes', 'usados', 'ha', 'ambos', 'General', 'conformado', 'y', 'mantener', 'nombre', 'describió'}\n",
      "{'movimientos', 'relaciones', 'sindicalismo', 'coordenadas', 'año', 'ideas', 'hospital', 'oficialmente', 'competencia', 'base', 'vez', 'ascenso', 'ruptura', 'tribu', 'nueva', 'literatura', 'barbería', 'capital', 'estudioso', 'opositores', 'correctores', 'furgón', 'población', 'nieto', 'término', 'estancia', 'neozelandesa', 'aceptable', 'final', 'importancia', 'publicaciones', 'prensa', 'representación', 'composición', 'libro', 'bordes', 'joven', 'semanario', 'mujeres', 'ciudad', 'micólogo', 'líderes', 'comisión', 'ocasiones', 'vida', 'marido', 'derechistas', 'muerte', 'minorías', 'raza', 'esporas', 'periódico', 'acción', 'cual', 'tennantita', 'familia', 'tomo', 'características', 'organización', 'asuntos', 'comité', 'actividades', 'distrito', 'subordinación', 'hijos', 'micologista', 'minoría', 'partido', 'ayuntamientos', 'desacuerdos', 'censura', 'hermana', 'foto', 'asunto', 'historia', 'nombre', 'lengua', 'estalinistas'}\n",
      "{'ruso', 'su', 'cinco', 'las', 'hasta', 'más', 'diferentes', 'entonces', 'los', 'sus', 'lo', 'La', 'varios', 'embargo', 'ser', 'la', 'Las', 'Les', 'el', 'un', 'otros', 'dos', 'cualquier', 'El', 'haber', 'sólo'}\n",
      "{'cesa', 'ella', 'ell', 'sindicalistas', 'entonces', 'testimonios', 'cuadro', 'espalda', 'densidad', 'encuentro', 'frosardismo', 'obligatoria', 'hidratado', 'convertirse', 'entra', 'vez', 'mediano', 'tarde', 'viajes', 'juego', 'campeonato', 'cargas', 'estación', 'muestran', 'lentamente', 'meses', 'umbral', 'cabo', 'islas', 'alistamiento', 'vandalismo', 'irregulares', 'sindicato', 'soldados', 'encontrarse', 'llevar', 'acercarse', 'conjuntos', 'acusa', 'exponerlas', 'partidos', 'muestra', 'centímetros', 'grupo', 'locomotoras', 'cotejos', 'anarquismo', 'cobre', 'alrededores', 'hielo', 'calcio', 'especie', 'algunas', 'convierte', 'sistema', 'trabajo', 'como', 'turnos', 'resumen', 'asistir', 'debajo', 'estaba', 'oficio', 'unen', 'funciones', 'extranjeros', 'obras', 'renta', 'construido', 'llamada', 'indicación', 'puesto', 'destruida', 'respecto', 'abstuvo', 'cosecretario', 'jugador', 'redactor', 'fin', 'tiempo', 'lago', 'miembro', 'lecciones', 'buró', 'emplea', 'tanto', 'trenes', 'parte', 'ingresos', 'explicaciones', 'guía', 'partido', 'militantes', 'cm', 'bulto', 'excluidos', 'nombre', 'cuanto', 'toma'}\n",
      "{'color', 'ruso', 'dique', 'continuación', 'sindicalismo', 'año', 'griego', 'alto', 'día', 'vagón', 'cobrería', 'embargo', 'pasajeros', 'hecho', 'posición', 'posguerra', 'proletariado', 'ascenso', 'dirección', 'estipe', 'micólogista', 'calderería', 'ribera', 'ida', 'tamaño', 'campeonato', 'mano', 'cargas', 'estación', 'ramal', 'comunismo', 'obra', 'añadidura', 'islas', 'exterior', 'ciervos', 'honor', 'sindicato', 'torneo', 'encuesta', 'población', 'material', 'vapor', 'anunciación', 'fungi', 'torno', 'hongo', 'malversaciones', 'inteligencia', 'divergencias', 'extremadamente', 'cronista', 'individualismo', 'grupo', 'píleo', 'empleados', 'bordes', 'semifinales', 'cobre', 'género', 'sombreros', 'micólogo', 'corrector', 'especie', 'infraestructura', 'construir', 'verrugas', 'río', 'castaño', 'fondo', 'trotskismo', 'agua', 'pintura', 'núcleo', 'secretario', 'aniones', 'congresos', 'seis', 'conjunto', 'régimen', 'flete', 'vacaciones', 'teatro', 'amante', 'tennantita', 'extranjero', 'fútbol', 'vuelta', 'arte', 'éxito', 'tomo', 'lago', 'suscripción', 'contribuir', 'buró', 'loa', 'ciencia', 'inglés', 'procedencia', 'electricidad', 'piramidales', 'tierra', 'partido', 'pareja', 'imprenta', 'politburó', 'espesor', 'octubre', 'artículo', 'ensayos', 'y', 'embarcadero', 'conferencia', 'participar'}\n",
      "{'es', 'revolucionario', 'para', 'se', 'mejor', 'era', 'Gran', 'blanca', 'mismo', 'afrocalcocita', 'siendo', 'no', 'casi', 'debe', 'grosero', 'ocho', 'hecho', 'aunque', 'naval', 'planteles', 'futuros', 'obtenido', 'pequeños', 'numerosos', 'dos', 'conocido', 'nueva', 'miel', 'comunista', 'soviético', 'localizadas', 'parlamentario', 'por', 'soldadura', 'socialista', 'le', 'resulta', 'hits', 'amarillento', 'circular', 'a', 'luego', 'del', 'diecisiete', 'al', 'son', 'excepcional', 'últimas', 'primera', 'oficioso', 'minerales', 'reformar', 'como', 'fue', 'participaron', 'primeros', 'la', 'siguiente', 'fieles', 'goles', 'cónicas', 'o', 'otras', 'francés', 'bizantino', 'que', 'cual', 'donde', 'independenciadel', 'inmensa', 'ex', 'gran', 'hizo', 'otra', 'mayor', 'asiste', 'diagonal', 'cuales', 'à', 'pequeño', 'ver', 'tirados', 'primer', 'cierta', 'nueve', 'osos', 'completo', 'un', 'tácticas', 'hace', 'misma', 'estrechos', 'solo', 'otros', 'due', 'extensa', 'y', 'en', 'asegura', 'pero', 'deberá'}\n",
      "{'ovalada', 'parlamentario', 'suizo', 'David', 'anarquistas', 'revolucionario', 'ruso', 'es', 'bolcheviques', 'forma', 'revolucionarias', 'más', 'Montagne', 'Internacionales', 'participantes', 'americano', 'cotidiana', 'Ing', 'tensos', 'sindical', 'Not', 'franceses', 'no', 'obrero', 'futuro', 'postal', 'Amanitaceae', 'médica', 'très', 'austríaco', 'la', 'Maurice', 'neozelandesa', 'III', 'deseable', 'Stevenson', 'Wellington', 'amiloides', 'anarquista', 'azufre', 'russe', 'extranjeros', 'Evenkiysky', 'referida', 'parisinos', 'militantes', 'esenciales', 'revolucionarios', 'privilegiadas', 'bulbosa', 'A', 'verdadero', 'Tito', 'firme', 'francés', 'políticos', 'Andrès', 'véase', 'conservadas', 'del', 'dreyfusardo', 'alargada', 'y', 'internacionalista', 'sindicalista', 'Sieva', 'decayó', 'Leptospermum', 'XVIII', 'inglesa', 'sagrada', 'microscópicas', 'internacionales', 'trotskistas', 'política'}\n",
      "{'Los', 'Al', 'Del', 'Sin', 'La', 'Sus', 'Las', 'Su', 'Es', 'A', 'Era', 'Esta', 'À', 'Por', 'De', 'En', 'El', 'Una', 'Estos', 'Formaba', 'Están'}\n"
     ]
    }
   ],
   "source": [
    "for i in words_dict.values():\n",
    "    print(i)"
   ]
  },
  {
   "cell_type": "code",
   "execution_count": null,
   "metadata": {},
   "outputs": [],
   "source": []
  }
 ],
 "metadata": {
  "kernelspec": {
   "display_name": "Python 3",
   "language": "python",
   "name": "python3"
  },
  "language_info": {
   "codemirror_mode": {
    "name": "ipython",
    "version": 3
   },
   "file_extension": ".py",
   "mimetype": "text/x-python",
   "name": "python",
   "nbconvert_exporter": "python",
   "pygments_lexer": "ipython3",
   "version": "3.7.3"
  }
 },
 "nbformat": 4,
 "nbformat_minor": 4
}
