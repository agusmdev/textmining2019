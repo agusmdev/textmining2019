{
 "cells": [
  {
   "cell_type": "code",
   "execution_count": 27,
   "metadata": {},
   "outputs": [],
   "source": [
    "import spacy\n",
    "from tqdm import tqdm\n",
    "from collections import defaultdict\n",
    "from sklearn.pipeline import Pipeline\n",
    "from nltk.stem import WordNetLemmatizer\n",
    "from sklearn.feature_extraction import DictVectorizer\n",
    "from sklearn.decomposition import TruncatedSVD\n",
    "from sklearn.cluster import KMeans\n",
    "import numpy as np\n",
    "\n",
    "\n",
    "\n",
    "class SentencesIterator:\n",
    "    def __init__(self, path):\n",
    "        self.path = path\n",
    "\n",
    "    def __iter__(self):\n",
    "        with open(self.path, 'r') as f:\n",
    "            for l in f.readlines():\n",
    "                yield l.strip()"
   ]
  },
  {
   "cell_type": "code",
   "execution_count": 28,
   "metadata": {},
   "outputs": [],
   "source": [
    "sentences = SentencesIterator('xaa')\n",
    "sents = list(sentences)"
   ]
  },
  {
   "cell_type": "code",
   "execution_count": 30,
   "metadata": {},
   "outputs": [],
   "source": [
    "def tag_sent(sent):\n",
    "    return '< < {} > >'.format(sent)\n",
    "\n",
    "def processing(sents, disable_pipe=['parser', 'ner'], max_sents=50000):\n",
    "    nlp = spacy.load('es_core_news_sm')\n",
    "    tokens = []\n",
    "    for sent in tqdm(sents[:max_sents]):\n",
    "        if len(sent) > 7:\n",
    "            tokens.append([token for token in nlp(tag_sent(sent), disable=disable_pipe)])\n",
    "    return tokens\n",
    "    \n",
    "    \n",
    "    \n",
    "    "
   ]
  },
  {
   "cell_type": "code",
   "execution_count": 51,
   "metadata": {},
   "outputs": [
    {
     "name": "stderr",
     "output_type": "stream",
     "text": [
      "100%|██████████| 300/300 [00:01<00:00, 258.21it/s]\n"
     ]
    }
   ],
   "source": [
    "tokens = processing(sents, max_sents=300)"
   ]
  },
  {
   "cell_type": "code",
   "execution_count": 52,
   "metadata": {},
   "outputs": [],
   "source": [
    "\n",
    "\n",
    "def make_feature_dict(doc):\n",
    "    wordnet_lemmatizer = WordNetLemmatizer()\n",
    "    document_features = []\n",
    "    words = []\n",
    "    for i, token in enumerate(doc):\n",
    "        if token.text not in ['<', '>']:\n",
    "            features = {\n",
    "                'word': token.text,\n",
    "                'pword': doc[i-1].text,\n",
    "                'ppword': doc[i-2].text,\n",
    "                'nword': doc[i+1].text,\n",
    "                'nnword': doc[i+2].text,\n",
    "                'pword_tag': doc[i-1].pos_,\n",
    "                'ppword_tag': doc[i-2].pos_,\n",
    "                'nword_tag': doc[i+1].pos_,\n",
    "                'nnword_tag': doc[i+2].pos_,\n",
    "                'is_lower': token.is_lower,\n",
    "                'POS': token.pos_,\n",
    "                'lemma': wordnet_lemmatizer.lemmatize(token.text, pos='v'),\n",
    "                #'word_len': len(token.text),\n",
    "                #'prob': token.prob,\n",
    "                'is_stop': token.is_stop,\n",
    "                'is_oov': token.is_oov,\n",
    "            }\n",
    "            document_features.append(features)\n",
    "            words.append(token.text)\n",
    "#             document_features_dict[token.text].append(features)\n",
    "#             check_list.append(token.text)\n",
    "    return document_features, words"
   ]
  },
  {
   "cell_type": "code",
   "execution_count": 53,
   "metadata": {},
   "outputs": [],
   "source": [
    "tokens_f = [make_feature_dict(doc) for doc in tokens]\n",
    "# tokens_f = [make_word_feature_dict(doc) for doc in tokens]\n",
    "# make_feature_dict(tokens[0])"
   ]
  },
  {
   "cell_type": "code",
   "execution_count": null,
   "metadata": {},
   "outputs": [],
   "source": []
  },
  {
   "cell_type": "code",
   "execution_count": 54,
   "metadata": {},
   "outputs": [],
   "source": [
    "tokens_f = []\n",
    "words = []\n",
    "for doc in tokens:\n",
    "    toks, words_ = make_feature_dict(doc) \n",
    "    tokens_f += toks\n",
    "    words += words_    "
   ]
  },
  {
   "cell_type": "code",
   "execution_count": 55,
   "metadata": {},
   "outputs": [],
   "source": [
    "tokens_f = np.array(tokens_f)"
   ]
  },
  {
   "cell_type": "code",
   "execution_count": 56,
   "metadata": {},
   "outputs": [],
   "source": [
    "vectorizer_config = {\n",
    "        'sparse': True\n",
    "}\n",
    "svd_config = {\n",
    "        'n_components': 14,\n",
    "        'random_state': 666,\n",
    "        'n_iter': 15,\n",
    "}\n",
    "kmeans_config = {\n",
    "        'n_clusters': 45,\n",
    "        'random_state': 666,\n",
    "        'init': 'random',\n",
    "        'precompute_distances': False,\n",
    "}\n",
    "\n",
    "\n",
    "pipeline = Pipeline([\n",
    "                ('vect', DictVectorizer(**vectorizer_config)),\n",
    "                ('svd', TruncatedSVD(**svd_config)),\n",
    "                ('kmeans', KMeans(**kmeans_config)),\n",
    "            ])\n",
    "\n"
   ]
  },
  {
   "cell_type": "code",
   "execution_count": 57,
   "metadata": {},
   "outputs": [
    {
     "data": {
      "text/plain": [
       "Pipeline(memory=None,\n",
       "     steps=[('vect', DictVectorizer(dtype=<class 'numpy.float64'>, separator='=', sort=True,\n",
       "        sparse=True)), ('svd', TruncatedSVD(algorithm='randomized', n_components=14, n_iter=15,\n",
       "       random_state=666, tol=0.0)), ('kmeans', KMeans(algorithm='auto', copy_x=True, init='random', max_iter=300,\n",
       "    n_clusters=45, n_init=10, n_jobs=None, precompute_distances=False,\n",
       "    random_state=666, tol=0.0001, verbose=0))])"
      ]
     },
     "execution_count": 57,
     "metadata": {},
     "output_type": "execute_result"
    }
   ],
   "source": [
    "pipeline"
   ]
  },
  {
   "cell_type": "code",
   "execution_count": 58,
   "metadata": {},
   "outputs": [],
   "source": [
    "labels = pipeline.fit_predict(tokens_f)"
   ]
  },
  {
   "cell_type": "code",
   "execution_count": 59,
   "metadata": {},
   "outputs": [],
   "source": [
    "from collections import defaultdict\n",
    "words_dict = defaultdict(set)\n",
    "for i, label in enumerate(labels):\n",
    "    words_dict[label].add(words[i])\n",
    "words_dict = dict(words_dict)\n"
   ]
  },
  {
   "cell_type": "code",
   "execution_count": 60,
   "metadata": {},
   "outputs": [
    {
     "name": "stdout",
     "output_type": "stream",
     "text": [
      "{'Alfred', 'Trotsky', 'Anima', 'Contó', 'Igualmente', 'Dique', 'Stevenson', 'Morris', 'Swanzey', 'Fue', 'Copa', 'Milford', 'Creación', 'Viajan', 'Laurens', 'Se', 'Aparecerían', 'A', 'Gilbertsville', 'Louis', 'Contrario', 'Rosmer', 'Habilitado', 'Entra', 'Siempre', 'Fallece', 'Richfield', 'Santiago', 'Treint', 'Tras', 'Esto', 'Apoya', 'Nacional', 'Clasificaron', 'Cuenta', 'Suele', 'Carrie', 'No', 'Miembro', 'Le', 'Hoy', 'Produce', 'Ejemplar', 'Cooperstown', 'Keystone', 'Nunca', 'Alrededor', 'Vuelve', 'CGT', 'Cuando', 'Desaprobado', 'Final', 'Otego', 'En', 'Retoma', 'Traducción', 'Situado', 'Recibía', 'Cherry', 'También', 'Giovacchini', 'Además', 'Sinónimos', 'Es', 'Monatte', 'Christian', 'Participa', 'Rechazan', 'Va', 'Origen', 'Amanita'}\n",
      "{'Tintoretto', 'Monnate', 'Central', 'Stevenson', 'Mauá', 'Martov', 'Griot', 'ouvrière', 'Vérité', 'Ferrocarril', 'Ártico', 'Norte', 'Deseado', 'DIGITO', 'Universitario', 'VO', 'Grasset', 'México', 'Ingalls', 'Limacella', 'L', 'Franchet', 'Bolivar', 'René', 'Callejas', 'Dunay', 'Alfred', 'Дунай', 'Zinóviev', 'Potosí', 'Sindicalista', 'Suvarin', 'Congo', 'Sur', 'Vanyady', 'Landau', 'Formación', 'Francesa', 'Marbán', 'Lefebvre', 'Marguerite', 'Nikolái', 'Greta', 'Partido', 'Souvarine', 'Lepetit', 'Mary', 'Étudiants', 'Kurt', 'Chennevier', 'SFIC', 'Tungus', 'Monatte', 'Christian', 'DIMAT', 'PCF', 'Valley', 'Internacional', 'Aurora', 'Dakota', 'Memorial', 'Ligas', 'Díez', 'Provincia', 'Dirección', 'Abu', 'Campeón', 'Guzmán', 'Fayod', 'Real', 'Vaca', 'Losovski', 'Unidos', 'Testamento', 'Álvarez', 'Nothofagus', 'Vie', 'Montevideo', 'Lopera', 'Keystone', 'Yessey', 'Springs', 'Nelson', 'Trotsky', 'Horak', 'Comunista', 'australis', 'Samuel', 'Bujarín', 'Pierre', 'Cachin', 'Greco', 'Museo', 'Ejecutivo', 'Pampa', 'Molinier', 'Grigori', 'Rosmer', 'Cardinals', 'Atlético', 'Compañía', 'Geneviève', 'Donovan', 'Democrática', 'Nacional', 'Eto', 'Mundial', 'América', 'Alta', 'Lenin', 'du', 'Bolívar', 'Polar', 'Gras', 'Boris', 'National', 'Historia', 'Dhabi'}\n",
      "{'de', 'al', 'hasta', 'a', 'en', 'como', 'entre', 'tras', 'sobre', 'sin', 'del', 'bajo', 'desde', 'por', 'con', 'el', 'para'}\n",
      "{'Estado', 'República', 'París', 'Monnate', 'Albert', 'Inglaterra', 'Beni', 'Murmansk', 'Nueva', 'Mauá', 'Laurens', 'Ferrocarril', 'Ártico', 'Norte', 'Tríptico', 'Montrouge', 'Giacomo', 'Strunz', 'Gaston', 'Balón', 'Créteil', 'Otego', 'Sieva', 'Patterson', 'Madrid', 'Au', 'Construcciones', 'María', 'Alfred', 'Romain', 'Zinóviev', 'Ibsen', 'Macorís', 'Amédée', 'Sur', 'Material', 'Alexei', 'Marguerite', 'San', 'Zimmerwald', 'Partido', 'Granada', 'Rusia', 'Adrien', 'Gallimard', 'Pando', 'Irineu', 'Láptev', 'Borís', 'Cherry', 'SFIC', 'Monatte', 'Victor', 'Egon', 'Sousa', 'Puerto', 'Uruguay', 'Coyoacan', 'Dakota', 'Morris', 'Milford', 'África', 'Mayo', 'Moscú', 'A', 'Frossard', 'Karl', 'Real', 'Black', 'Censo', 'Ing', 'Bélgica', 'Pacífico', 'Cooperstown', 'Keystone', 'Santa', 'Tirol', 'Comité', 'Servicio', 'Turquía', 'Rambla', 'Londres', 'Trotsky', 'Vergeat', 'Prado', 'Oro', 'Francia', 'Ejecutivo', 'Milán', 'Komintern', 'género', 'Molinier', 'España', 'Gas', 'Rosmer', 'Trotski', 'Treint', 'Suiza', 'Tours', 'Kronstadt', 'América', 'Lenin', 'Módena', 'Lyon', 'Béisbol', 'Congreso', 'Monte', 'Europa', 'Krasnoyarsk', 'Estados'}\n",
      "{'durante', 'de', 'a', 'en', 'es', 'encuentra', 'no', 'tiene', 'del', 'bajo', 'desde', 'por', 'con', 'para'}\n",
      "{'cada', 'otras', 'dos', 'recoger', 'esta', 'ese', 'la', 'sus', 'tercera', 'nuevo', 'varias', 'es', 'estas', 'vasta', 'dicha', 'pequeño', 'otra', 'lo', 'nuevas', 'las', 'como', 'mucho', 'los', 'su', 'una', 'un', 'el'}\n",
      "{'grupo', 'islas', 'laminillas', 'estación', 'tren', 'domingo', 'movimiento', 'estafeta', 'encuentros', 'equipo', 'instancia', 'tendencia', 'huelgas', 'herramienta', 'superficie', 'período', 'frío', 'densidad', 'lanzador', 'periódico', 'comité', 'vida', 'escisión', 'tiempo', 'actividad', 'sindicalista', 'muestras', 'difusión', 'texto', 'pasión', 'composición', 'profundidad', 'radicalmente', 'fosfatos', 'especie', 'parte', 'cuerpos', 'dique', 'anillo', 'pueblo', 'definición', 'abuelo', 'campeones', 'minoritarios', 'vez', 'hongos', 'asesinato', 'casa', 'amistad', 'partido', 'servicios', 'dos', 'arseniato', 'problemas', 'kupafrita', 'padre', 'ajuste', 'equipaje', 'manifiesto', 'cuadros', 'exámenes', 'triunfo', 'formas', 'corrector', 'editor', 'tomo', 'concurso', 'combate', 'artículos', 'forma', 'delegados', 'ingresos', 'relación', 'obra', 'informe', 'trabajos', 'cooperación', 'nexo', 'dirigentes', 'delegado', 'localidad', 'crímenes', 'llanura', 'mundo', 'publicación', 'peces', 'mineral', 'personas', 'parlamentarismo', 'villa', 'canon', 'crítica', 'clases', 'arcángel', 'meseta', 'nothofagi', 'partidos', 'particulares', 'talleres', 'carrera', 'día', 'auge', 'discursos', 'revolución', 'asociaciones', 'hombres', 'representante', 'asunto'}\n",
      "{'ubicada', 'habilitaban', 'político', 'recogidas', 'bolcheviques', 'jardín', 'pagado', 'contitutivo', 'diferente', 'venenoso', 'rural', 'turísticos', 'debe', 'verbal', 'dirigiéndose', 'ejecutivo', 'está', 'ligada', 'suficientes', 'será', 'hidrotermales', 'y', 'Dunay', 'buró', 'realizada', 'seco', 'poblacional', 'únicamente', 'simple', 'blanco', 'pacifista', 'inferior', 'medios', 'veneciano', 'libre', 'reforzado', 'procede', 'impulsada', 'clandestina', 'francés', 'están', 'adicionales', 'general', 'reformistas', 'situadas', 'dulce', 'nacional', 'obrera', 'endémica', 'internacionales', 'doloroso', 'afirmando', 'Aprovecha', 'Moscú', 'eran', 'fructíferos', 'estadounidense', 'Krai', 'directamente', 'cercano', 'teatral', 'estalinistas', 'clásico', 'mayores', 'total', 'obrero', 'más', 'parisinas', 'accederán', 'nmombre', 'tradicionales', 'primordial', 'capacitados', 'circuló', 'leninista', 'serán', 'presentada', 'común', 'publicado', 'blanca', 'estaban', 'firmando', 'como', 'salido', 'II', 'africano', 'costeras', 'era', 'coloniales', 'importante', 'ubicado'}\n",
      "{'este', 'mismo', 'las', 'La', 'primera', 'pleno', 'mal', 'los', 'la', 'otras', 'su', 'otros', 'una', 'primer', 'estos', 'un', 'el', 'varias'}\n",
      "{'obras', 'salón', 'estaciones', 'militantes', 'participación', 'proyecto', 'región', 'presencia', 'motivo', 'nombre', 'regreso', 'provincia', 'vuelta', 'administración', 'orígenes', 'récord', 'encuentro', 'partida', 'tesis', 'hombre', 'discurso', 'notas', 'procesos', 'diferencia', 'oro', 'grabado', 'influencias', 'congreso', 'población', 'figura', 'artículos', 'vez', 'exclusión', 'conferencia', 'obra', 'tiempo', 'informe', 'mano', 'clasificación', 'censo', 'condado', 'indirecto', 'franceses', 'ocasiones', 'represión', 'mar', 'vínculos', 'pseudónimo', 'excepción'}\n",
      "{'de', 'al', 'a', 'en', 'como', 'sobre', 'del', 'con', 'para'}\n",
      "{'investigación', 'Trotsky', 'estudios', 'bosque', 'oxidación', 'partir', 'contra', 'Suvarin', 'Lille', 'cápita', 'jefe', 'sindicato', 'diciembre', 'teatro', 'raíz', 'noviembre', 'Moscú', 'desarrollo', 'Buques', 'interesarse', 'Francesa', 'Pennington', 'patrimonio', 'o', 'acuerdo', 'diferencias', 'diferencia', 'Treint', 'prefacios', 'ellos', 'Censo', 'miradas', 'politburó', 'Río', 'sur', 'Clubes', 'Lenin', 'Tiziano', 'resolución', 'hongo', 'vida', 'desacuerdo', 'margen', 'hogar', 'leer', 'Manifiesto', 'contrario', 'favor', 'total', 'manos', 'Comité', 'terminar', 'fuerza', 'Yugoslavia', 'cuanto', 'empleado', 'una', 'Mazembe', 'Sajá', 'país', 'pagar', 'partido', 'Otsego'}\n",
      "{'durante', 'de', 'al', 'a', 'en', 'entre', 'contra', 'tras', 'según', 'sobre', 'hacia', 'del', 'desde', 'por', 'con', 'para'}\n",
      "{'parlamentarios', 'viviendas', 'autores', 'división', 'grupo', 'islas', 'géneros', 'alrededores', 'estación', 'movimiento', 'región', 'época', 'discusiones', 'instancia', 'superficie', 'diez', 'discurso', 'imágenes', 'verosímil', 'carne', 'periódico', 'vida', 'tiempo', 'actualidad', 'unión', 'anarcosindicalistas', 'tipo', 'puntos', 'reparación', 'revista', 'buró', 'que', 'monumental', 'pasajeros', 'visión', 'área', 'especie', 'teatro', 'parte', 'estructuras', 'relaciones', 'sindicatos', 'siglo', 'entonces', 'enseñanza', 'medios', 'yacimientos', 'población', 'sitio', 'países', 'centro', 'organizaciones', 'basidiomiceto', 'elocuencia', 'mayorías', 'reunión', 'interesado', 'cuenca', 'capacidades', 'problemas', 'ciudad', 'petit', 'tomo', 'cuales', 'pradera', 'congreso', 'delegados', 'obra', 'guerras', 'mêlée', 'mayores', 'ocasiones', 'atractivos', 'militantes', 'paraje', 'fórmula', 'localidad', 'series', 'estado', 'publicación', 'llave', 'clase', 'naturaleza', 'territorio', 'cultura', 'guerra', 'carrera', 'unanimidad'}\n",
      "{'allí', 'de', 'al', 'a', 'en', 'se', 'así', 'le', 'ser', 'que', 'sobre', 'del', 'por', 'el', 'para'}\n",
      "{'Destacan', 'Recibe', 'Casi', 'Defiende', 'Su', 'Durante', 'Por', 'Organiza', 'A', 'Tras', 'Para', 'De', 'Entre', 'Tuvo', 'En', 'Según', 'Finalizado', 'Es', 'Pero', 'Hasta', 'Tiene'}\n",
      "{'Comisión', 'Cruz', 'República', 'Conmebol', 'Histoire', 'Lagos', 'Deseado', 'DIGITO', 'VO', 'Pedro', 'Batalla', 'Departamento', 'Oudemansiella', 'B', 'CGT', 'Liga', 'Final', 'Biblia', 'Amanita', 'Temps', 'Suvarin', 'Sur', 'FIFA', 'Copa', 'área', 'Naval', 'Verité', 'Partido', 'Tercera', 'Armada', 'Parque', 'Evangelista', 'Lena', 'IIIa', 'Camus', 'Oficina', 'Virgen', 'Internacional', 'Estados', 'Gauche', 'Isla', 'Heras', 'Patagónico', 'Thevenet', 'Comités', 'Sección', 'Inter', 'Λίθος', 'Conferencia', 'Humanidad', 'Reparaciones', 'Censo', 'Barón', 'Unidos', 'Austria', 'Federación', 'Vie', 'Rotoiti', 'Círculo', 'Comité', 'Lilas', 'Dique', 'Grandes', 'Greco', 'Ессей', 'Museo', 'Francia', 'Ejecutivo', 'CGTU', 'España', 'Mamore', 'Rosmer', 'Treint', 'Cuarta', 'York', 'Eno', 'Monmousseau', 'Congreso', 'Estadio', 'Острова', 'UEFA', 'Historia', 'Boletín'}\n",
      "{'de', 'hasta', 'eran', 'en', 'entre', 'del', 'el'}\n",
      "{'DIGITO'}\n",
      "{'DIGITO'}\n",
      "{'DIGITO'}\n",
      "{'Alfred', 'DIGITO'}\n",
      "{'vender', 'vuelve', 'firma', 'son', 'revise', 'nouveaux', 'forman', 'globalmente', 'ouvrière', 'diferente', 'sus', 'o', 'claramente', 'cuentas', 'todos', 'será', 'impedir', 'defiende', 'los', 'renueva', 'y', 'tanto', 'tenía', 'anular', 'encontrar', 'que', 'aprende', 'pasó', 'da', 'mantiene', 'pasaba', 'manteniendo', 'nombrado', 'encuentra', 'formalizar', 'entonces', 'XVII', 'finalizaría', 'circular', 'afrontar', 'denuncia', 'minimizar', 'prima', 'imponer', 'había', 'implica', 'a', 'reúne', 'un', 'reside', 'prefacia', 'ver', 'efectúa', 'otros', 'sabe', 'internacionales', 'conservó', 'pasar', 'publicar', 'donde', 'obtener', 'apoya', 'observa', 'efectuar', 'no', 'instalar', 'logró', 'quien', 'llevan', 'atractivo', 'conserva', 'aprobar', 'su', 'brochantita', 'tiene', 'toma', 'atienden', 'organizar', 'presentó', 'existía', 'emplazaba', 'trazará', 'privilegia', 'llavar', 'votaron', 'encuentran', 'siempre', 'tenían', 'la', 'preveía', 'definió', 'es', 'haciendo', 'inauguró', 'jugaría', 'posee', 'critica', 'fue', 'convierte', 'al', 'igualmente', 'macrospora', 'como', 'dirigió', 'era', 'publica', 'una', 'años', 'el', 'finalmente'}\n",
      "{'dos', 'tres', 'primer', 'con', 'por', 'La', 'gran', 'varios', 'pronto', 'en', 'mejor', 'cuatro', 'primera', 'él', 'la', 'toda', 'sus', 'dar', 'del', 'última', 'mismo', 'segunda', 'al', 'a', 'las', 'hace', 'como', 'los', 'su', 'sea', 'una', 'mientras', 'tiene', 'sean', 'un', 'el', 'pocos'}\n",
      "{'cerca', 'frente', 'basándose', 'habitantes', 'gracias', 'eran', 'blancos', 'hab', 'departamentales', 'donde', 'historiador', 'personas', 'abandonando', 'corresponden', 'viajan', 'hispanos', 'se', 'es', 'presta', 'cercano', 'milímetros', 'forma', 'pasa', 'a', 'como', 'y', 'años'}\n",
      "{'esa', 'cada', 'algunos', 'cualquier', 'duro', 'pequeñas', 'este', 'primera', 'mejor', 'la', 'sus', 'mismo', 'hacer', 'tercera', 'segunda', 'unos', 'El', 'las', 'como', 'los', 'su', 'una', 'un', 'el'}\n",
      "{'de', 'al', 'a', 'en', 'como', 'entre', 'su', 'sin', 'una', 'del', 'desde', 'por', 'con', 'un'}\n",
      "{'junio', 'camerunés', 'grupo', 'allá', 'fase', 'movimiento', 'carbonato', 'seguros', 'razas', 'combinación', 'o', 'limpia', 'oriente', 'jamás', 'prosperó', 'micorrizas', 'publicarse', 'torneo', 'msnm', 'y', 'pondrá', 'kilómetros', 'tronco', 'crisocola', 'delicada', 'visitadora', 'contra', 'perdedor', 'litos', 'diámetro', 'anarquista', 'sindicalismo', 'altamente', 'pobreza', 'únicamente', 'agua', 'control', 'socialistas', 'cretense', 'socialismo', 'yacimientos', 'setas', 'biógrafo', 'chismes', 'francés', 'zorros', 'bien', 'impureza', 'ángeles', 'dehabitada', 'sindicato', 'interesan', 'roja', 'preparado', 'km²', 'piedra', 'forma', 'inevitable', 'ocasiones', 'beisbol', 'drástico', 'ríos', 'amerindios', 'militantes', 'ascenso', 'vuelta', 'révolutionnaires', 'amigos', 'destino', 'destructivos', 'prefectura', 'joven', 'tricalcita', 'como', 'equipos', 'internationalistes', 'prensa', 'el', 'participa'}\n",
      "{'Albert', 'totalmente', 'naval', 'que', 'minero', 'opera', 'fueron', 'dirigentes', 'orgánica', 'amarronados', 'mejores', 'jugarán', 'zinovievista', 'italiano', 'mejor', 'internas', 'Sección', 'típicamente', 'ferroviaria', 'o', 'se', 'es', 'completos', 'está', 'no', 'hueco', 'primeros', 'III', 'fue', 'rusos', 'a', 'internacionalista', 'como', 'están', 'Yessey', 'máxima', 'y', 'Es', 'personal', 'per', 'cuando', 'participa'}\n",
      "{'le', 'extraordinaria', 'firma', 'derrotó', 'afinado', 'algunas', 'nunca', 'bastante', 'consiguió', 'o', 'cargado', 'hay', 'puede', 'permaneció', 'translitera', 'reparar', 'está', 'crea', 'niegan', 'antiguo', 'todos', 'abandonará', 'comunista', 'emancipada', 'tyrolita', 'Les', 'obligatoria', 'raro', 'descubierta', 'y', 'descrito', 'franchetii', 'aunque', 'que', 'firmado', 'poco', 'muy', 'kmDIGITO', 'habitada', 'encuentra', 'entonces', 'murió', 'quería', 'retoma', 'pudo', 'asiáticos', 'ya', 'construida', 'cuesta', 'e', 'bebían', 'principal', 'El', 'lo', 'pero', 'llevar', 'a', 'pudiéndose', 'admitido', 'ser', 'si', 'estaba', 'logradas', 'u', 'queda', 'tan', 'realizó', 'intentan', 'efectúa', 'dos', 'esta', 'también', 'sujetas', 'creía', 'incluso', 'rico', 'donde', 'allí', 'disidente', 'entabla', 'grandes', 'no', 'aprueba', 'surten', 'anunciación', 'jugará', 'describió', 'más', 'australis', 'otras', 'tornería', 'después', 'aleja', 'encuentran', 'azurita', 'siempre', 'tirolita', 'barbero', 'se', 'seguir', 'amerimuscaria', 'es', 'blancas', 'convierte', 'fue', 'encontrarse', 'les', 'mucho', 'especificó', 'originalmente', 'elegido', 'el'}\n",
      "{'º', 'intentó', 'realmente', 'con', 'permitía', 'ouvrière', 'nombrada', 'adherido', 'o', 'asociasiones', 'puede', 'antiguo', 'será', 'y', 'enfrentándose', 'numerosos', 'contra', 'que', 'permanece', 'mostró', 'visto', 'haber', 'da', 'm', 'nombrado', 'encuentra', 'entonces', 'ocupa', 'próximas', 'difiere', 'justo', 'había', 'pero', 'a', 'hace', 'están', 'anteriormente', 'ª', 'mouvement', 'estaba', 'para', 'intensamente', 'ejerció', 'sobre', 'ha', 'eran', 'en', 'donde', 'del', 'propias', 'km²', 'sí', 'no', 'futuro', 'emitía', 'forma', 'realiza', 'colabora', 'participar', 'despachaba', 'de', 'más', 'communiste', 'considerada', 'totalmente', 'reunió', 'siente', 'opuso', 'reemplazar', 'se', 'es', 'clubes', 'fue', 'macrospora', 'como', 'les', 'intentaban', 'misteriosamente'}\n",
      "{'cerca', 'ubicada', 'intnetó', 'sitúa', 'debido', 'adhiere', 'acudir', 'conoce', 'fuera', 'encontrado', 'exiliados', 'o', 'jugó', 'severo', 'aún', 'respaldado', 'profesa', 'retracta', 'vanadatos', 'viviendo', 'desasparecidos', 'produce', 'acepta', 'encargan', 'divididos', 'antes', 'y', 'tanto', 'residiendo', 'atraído', 'ubicado', 'permanecen', 'reúnen', 'uno', 'brillante', 'parte', 'amateur', 'someter', 'únicamente', 'próximo', 'notablemente', 'encuentra', 'curioso', 'asociado', 'cubiertas', 'iba', 'envía', 'campeones', 'desapareció', 'cree', 'artículo', 'vez', 'distinguida', 'miembros', 'divergencias', 'a', 'ganadores', 'irán', 'escasas', 'amistad', 'temporadas', 'lanza', 'qué', 'nacional', 'ajena', 'favorable', 'naturalmente', 'frecuentará', 'milita', 'reelegido', 'eran', 'formado', 'planeado', 'todo', 'sinónimo', 'celebra', 'consagró', 'reemplaza', 'ilustró', 'inaugurado', 'unitaria', 'km²', 'condujo', 'enviado', 'congreso', 'justificó', 'frecuentes', 'directamente', 'forma', 'enfrentarse', 'estalinistas', 'subcampeones', 'colabora', 'perteneciente', 'correcciones', 'conservada', 'solamente', 'retira', 'carpintería', 'iban', 'meses', 'cubierta', 'militó', 'ejercer', 'director', 'accederán', 'animadora', 'confundido', 'luego', 'centristas', 'decide', 'industrial', 'acercar', 'dimite', 'compuesto', 'habitados', 'próximos', 'sobrevive', 'encima', 'denominada', 'seguir', 'rendirá', 'así', 'paticipa', 'dessus', 'obtiene', 'descargado', 'expcepcionalmente', 'tamaño', 'constituyente', 'latinos', 'edición', 'hostil', 'convierte', 'Congreso', 'igualmente', 'como', 'diseminados', 'una', 'elegido', 'cubiertos', 'transformado', 'descrita', 'participa'}\n",
      "{'nacional', 'I', 'más', 'ella', 'malaquita', 'secundario', 'naval', 'que', 'elevada', 'internacionales', 'son', 'anarquista', 'pequeñas', 'La', 'mal', 'rusa', 'nacionales', 'patagónica', 'turística', 'única', 'bobinados', 'dominicano', 'la', 'adulta', 'C', 'donde', 'del', 'cuyo', 'separada', 'deñl', 'inicial', 'se', 'puede', 'entre', 'arseniatos', 'aún', 'no', 'está', 'tuvo', 'hábil', 'industriales', 'leirocroíta', 'intelectual', 'hidroxilado', 'cuando', 'lo', 'pero', 'fue', 'trotskista', 'comenzó', 'mecánica', 'a', 'tecnológicas', 'si', 'era', 'y', 'sindicalista', 'sin', 'suele', 'mientras', 'anarquizante', 'Éscuela', 'compacto', 'descrita', 'el', 'alcanza', 'para'}\n",
      "{'grupo', 'bolcheviques', 'estación', 'tutor', 'razas', 'progresión', 'orilla', 'cuestión', 'límites', 'resto', 'periódico', 'ruso', 'acción', 'política', 'despacho', 'línea', 'actividad', 'torneo', 'reuniones', 'declaración', 'escritura', 'cargas', 'boceto', 'idea', 'clima', 'árboles', 'difusión', 'posibilidad', 'crítico', 'zona', 'arquitectura', 'usos', 'necesidad', 'izquierda', 'afiliación', 'contactos', 'nombre', 'interés', 'alma', 'dirección', 'misión', 'agua', 'relaciones', 'punto', 'recuerdos', 'siglo', 'recuperación', 'colaboración', 'acuerdo', 'visas', 'dictadura', 'minoritarios', 'vez', 'marco', 'asesinato', 'millones', 'desembocadura', 'áreas', 'casa', 'infancia', 'familia', 'base', 'ganadores', 'recibo', 'situación', 'votación', 'conciencia', 'hostilidad', 'venta', 'fama', 'momento', 'seno', 'necesidades', 'elementos', 'ciudad', 'italiano', 'final', 'colonia', 'mayoría', 'trabajo', 'valle', 'fundadores', 'comisión', 'promedio', 'organización', 'compañera', 'vías', 'dificultades', 'congreso', 'caso', 'concepción', 'eje', 'artículos', 'importancia', 'obra', 'trabajos', 'desaliño', 'despachos', 'salón', 'grupos', 'director', 'dirigentes', 'amigos', 'redacción', 'localidad', 'creación', 'mineral', 'clase', 'conexión', 'progrma', 'campaña', 'guerra', 'alteración', 'lucha', 'dominio', 'guardia', 'día', 'principio', 'ayuda', 'lugares', 'revolución', 'acusaciones'}\n",
      "{'ante', 'durante', 'de', 'hasta', 'a', 'en', 'entre', 'contra', 'sobre', 'del', 'por', 'con', 'para'}\n",
      "{'iniciativa', 'junio', 'partir', 'grupo', 'firma', 'julion', 'finales', 'miembro', 'eliminación', 'regreso', 'febrero', 'especialista', 'diciembre', 'visitantes', 'parte', 'noviembre', 'julio', 'ejemplo', 'isleños', 'apoyo', 'papel', 'todo', 'particular', 'lado', 'adherido', 'volver', 'corrector', 'marzo', 'bate', 'acuerdo', 'abril', 'llegan', 'septiembre', 'enero', 'es', 'componía', 'guerra', 'octubre', 'todos', 'verano', 'obra', 'viajes', 'familia', 'llevar', 'total', 'bateo', 'mayo'}\n",
      "{'Cruz', 'Nin', 'Stevenson', 'Naville', 'Nueva', 'Estación', 'Rolland', 'Kun', 'Embarcadero', 'VO', 'Rushmore', 'Raymond', 'Reiss', 'SCRA', 'y', 'prolétarienne', 'Suvarin', 'Copa', 'Marguerite', 'Greta', 'Béla', 'guilty', 'Zayed', 'Intercontinental', 'Armada', 'Prolétarienne', 'Roja', 'Amanitaceae', 'francés', 'SFIC', 'Française', 'IIIa', 'Nahuel', 'Valley', 'Fernand', 'Internacional', 'Sindical', 'Geografía', 'Hills', 'Armamento', 'Loriot', 'Stalin', 'A', 'Sainte', 'Françoise', 'Ignace', 'Seco', 'Black', 'Unidos', 'Caraglio', 'Comédie', 'Montevideo', 'Simon', 'Révolution', 'IC', 'St', 'Comunista', 'Dique', 'Pierre', 'Greco', 'Radek', 'Zelanda', 'CGTU', 'ISR', 'Rosmer', 'N', 'José', 'Nacional', 'Huapi', 'Dunois', 'Argentina', 'York', 'Dommanget', 'Lenin', 'Simón', 'Sheikh', 'Plata', 'Estados'}\n",
      "{'cerca', 'ubicada', 'le', 'remarca', 'firma', 'General', 'son', 'ouvrier', 'muere', 'con', 'expulsado', 'presidiendo', 'socialistes', 'reemplazado', 'usados', 'o', 'vivía', 'regresará', 'crea', 'juegos', 'ubica', 'nacido', 'y', 'que', 'nombre', 'encuentra', 'entonces', 'volver', 'reapareció', 'pudo', 'rebautizada', 'creó', 'tarde', 'El', 'e', 'había', 'a', 'trasfirió', 'vivieron', 'norte', 'cuando', 'aporta', 'naturalmente', 'enfrentaron', 'eran', 'ha', 'llegó', 'designa', 'ambos', 'pide', 'donde', 'recogidos', 'finalizó', 'inaugurado', 'km²', 'profundas', 'no', 'fallecido', 'movilizado', 'pertenecían', 'aquí', 'pensaba', 'avanza', 'construido', 'describió', 'más', 'apunta', 'Primero', 'conformado', 'révolutionnaires', 'incorpora', 'impide', 'opuso', 'serían', 'la', 'apoyan', 'reemplazar', 'se', 'es', 'mantener', 'fundado', 'delega', 'fue', 'como', 'afroamericanos', 'desarrolló', 'era', 'publica', 'siendo'}\n",
      "{'líderes', 'asuntos', 'término', 'micologista', 'derechistas', 'neozelandesa', 'minoría', 'publicaciones', 'ruptura', 'periódico', 'competencia', 'acción', 'tennantita', 'comité', 'vida', 'nueva', 'hospital', 'coordenadas', 'micólogo', 'ideas', 'hermana', 'composición', 'nombre', 'año', 'sindicalismo', 'esporas', 'relaciones', 'opositores', 'libro', 'desacuerdos', 'población', 'vez', 'estancia', 'familia', 'historia', 'base', 'literatura', 'partido', 'furgón', 'capital', 'ciudad', 'final', 'nieto', 'barbería', 'mujeres', 'actividades', 'comisión', 'tomo', 'subordinación', 'organización', 'foto', 'muerte', 'movimientos', 'importancia', 'marido', 'estalinistas', 'oficialmente', 'estudioso', 'bordes', 'ocasiones', 'minorías', 'lengua', 'raza', 'hijos', 'ascenso', 'distrito', 'representación', 'censura', 'características', 'correctores', 'aceptable', 'tribu', 'joven', 'ayuntamientos', 'cual', 'semanario', 'asunto', 'prensa'}\n",
      "{'más', 'dos', 'otros', 'cualquier', 'haber', 'embargo', 'La', 'hasta', 'varios', 'la', 'sólo', 'sus', 'entonces', 'cinco', 'Las', 'ruso', 'El', 'lo', 'Les', 'las', 'los', 'ser', 'su', 'diferentes', 'un', 'el'}\n",
      "{'obras', 'lentamente', 'lago', 'hidratado', 'grupo', 'islas', 'trenes', 'muestran', 'alrededores', 'estación', 'sindicalistas', 'muestra', 'cotejos', 'algunas', 'funciones', 'encuentro', 'fin', 'extranjeros', 'turnos', 'oficio', 'destruida', 'densidad', 'unen', 'tiempo', 'bulto', 'puesto', 'obligatoria', 'cargas', 'cuanto', 'tanto', 'hielo', 'campeonato', 'buró', 'redactor', 'cobre', 'nombre', 'especie', 'parte', 'jugador', 'guía', 'entonces', 'emplea', 'lecciones', 'indicación', 'anarquismo', 'calcio', 'excluidos', 'vez', 'abstuvo', 'tarde', 'respecto', 'cesa', 'cabo', 'llevar', 'juego', 'estaba', 'partido', 'ella', 'vandalismo', 'testimonios', 'asistir', 'sindicato', 'soldados', 'alistamiento', 'trabajo', 'umbral', 'debajo', 'exponerlas', 'ingresos', 'centímetros', 'explicaciones', 'viajes', 'frosardismo', 'sistema', 'ell', 'construido', 'toma', 'meses', 'espalda', 'llamada', 'militantes', 'cm', 'miembro', 'locomotoras', 'renta', 'acusa', 'acercarse', 'resumen', 'entra', 'convertirse', 'partidos', 'cuadro', 'convierte', 'encontrarse', 'como', 'irregulares', 'conjuntos', 'cosecretario', 'mediano'}\n",
      "{'lago', 'infraestructura', 'suscripción', 'grupo', 'islas', 'seis', 'estación', 'fútbol', 'embargo', 'malversaciones', 'río', 'semifinales', 'cronista', 'píleo', 'ruso', 'régimen', 'tennantita', 'verrugas', 'continuación', 'torneo', 'cobrería', 'mano', 'extremadamente', 'cargas', 'alto', 'ramal', 'ciencia', 'y', 'hecho', 'espesor', 'campeonato', 'aniones', 'núcleo', 'micólogo', 'procedencia', 'amante', 'buró', 'cobre', 'pasajeros', 'año', 'sindicalismo', 'dirección', 'especie', 'teatro', 'arte', 'ribera', 'agua', 'dique', 'congresos', 'añadidura', 'proletariado', 'fungi', 'artículo', 'población', 'ida', 'material', 'octubre', 'divergencias', 'inteligencia', 'pareja', 'electricidad', 'partido', 'posguerra', 'empleados', 'vagón', 'secretario', 'sindicato', 'color', 'embarcadero', 'ensayos', 'corrector', 'calderería', 'tomo', 'extranjero', 'pintura', 'fondo', 'flete', 'posición', 'estipe', 'éxito', 'anunciación', 'obra', 'micólogista', 'bordes', 'participar', 'loa', 'conferencia', 'torno', 'imprenta', 'ascenso', 'exterior', 'individualismo', 'comunismo', 'vuelta', 'género', 'vapor', 'contribuir', 'trotskismo', 'inglés', 'castaño', 'encuesta', 'vacaciones', 'honor', 'politburó', 'ciervos', 'construir', 'tamaño', 'hongo', 'tierra', 'día', 'conjunto', 'piramidales', 'sombreros', 'griego'}\n",
      "{'asegura', 'le', 'son', 'mayor', 'gran', 'à', 'o', 'debe', 'reformar', 'minerales', 'hits', 'pequeño', 'comunista', 'nueve', 'nueva', 'y', 'hecho', 'independenciadel', 'numerosos', 'aunque', 'estrechos', 'tirados', 'naval', 'que', 'tácticas', 'osos', 'misma', 'circular', 'cierta', 'participaron', 'planteles', 'localizadas', 'asiste', 'ex', 'pero', 'inmensa', 'a', 'hace', 'francés', 'resulta', 'socialista', 'casi', 'un', 'pequeños', 'para', 'goles', 'ver', 'otros', 'dos', 'excepcional', 'diagonal', 'primera', 'mejor', 'en', 'ocho', 'del', 'donde', 'cuales', 'obtenido', 'últimas', 'no', 'conocido', 'Gran', 'cónicas', 'bizantino', 'miel', 'soviético', 'amarillento', 'soldadura', 'otras', 'luego', 'por', 'due', 'la', 'deberá', 'blanca', 'mismo', 'se', 'grosero', 'es', 'parlamentario', 'solo', 'hizo', 'futuros', 'siguiente', 'completo', 'primeros', 'otra', 'fue', 'al', 'oficioso', 'como', 'diecisiete', 'afrocalcocita', 'revolucionario', 'era', 'cual', 'extensa', 'primer', 'siendo', 'fieles'}\n",
      "{'suizo', 'microscópicas', 'más', 'esenciales', 'Wellington', 'bolcheviques', 'Stevenson', 'internacionales', 'militantes', 'dreyfusardo', 'Andrès', 'bulbosa', 'anarquista', 'David', 'Maurice', 'amiloides', 'Internacionales', 'ovalada', 'cotidiana', 'très', 'anarquistas', 'trotskistas', 'neozelandesa', 'tensos', 'A', 'inglesa', 'la', 'XVIII', 'conservadas', 'participantes', 'del', 'revolucionarios', 'americano', 'russe', 'extranjeros', 'verdadero', 'referida', 'sagrada', 'Ing', 'parlamentario', 'es', 'decayó', 'Montagne', 'sindical', 'políticos', 'ruso', 'alargada', 'no', 'futuro', 'Not', 'Evenkiysky', 'privilegiadas', 'política', 'forma', 'postal', 'parisinos', 'III', 'deseable', 'austríaco', 'véase', 'Amanitaceae', 'francés', 'internacionalista', 'Leptospermum', 'Sieva', 'revolucionario', 'azufre', 'obrero', 'franceses', 'y', 'sindicalista', 'médica', 'revolucionarias', 'firme', 'Tito'}\n",
      "{'Estos', 'Su', 'La', 'Del', 'Por', 'Sin', 'Formaba', 'A', 'Los', 'Sus', 'Las', 'À', 'De', 'El', 'Era', 'En', 'Al', 'Es', 'Están', 'Una', 'Esta'}\n"
     ]
    }
   ],
   "source": [
    "for i in words_dict.values():\n",
    "    print(i)"
   ]
  },
  {
   "cell_type": "code",
   "execution_count": null,
   "metadata": {},
   "outputs": [],
   "source": []
  }
 ],
 "metadata": {
  "kernelspec": {
   "display_name": "Python 3",
   "language": "python",
   "name": "python3"
  },
  "language_info": {
   "codemirror_mode": {
    "name": "ipython",
    "version": 3
   },
   "file_extension": ".py",
   "mimetype": "text/x-python",
   "name": "python",
   "nbconvert_exporter": "python",
   "pygments_lexer": "ipython3",
   "version": "3.7.3"
  }
 },
 "nbformat": 4,
 "nbformat_minor": 4
}
