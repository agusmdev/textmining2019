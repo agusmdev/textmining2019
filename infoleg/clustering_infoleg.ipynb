{
 "cells": [
  {
   "cell_type": "markdown",
   "metadata": {},
   "source": [
    "### Clustering de palabras"
   ]
  },
  {
   "cell_type": "code",
   "execution_count": 1,
   "metadata": {},
   "outputs": [],
   "source": [
    "import spacy\n",
    "from spacy.tokens import Doc\n",
    "import os\n",
    "import numpy as np\n",
    "from collections import defaultdict\n",
    "from sklearn.pipeline import Pipeline\n",
    "from sklearn.feature_extraction import DictVectorizer\n",
    "from sklearn.decomposition import TruncatedSVD\n",
    "from sklearn.cluster import KMeans, AgglomerativeClustering\n",
    "import re"
   ]
  },
  {
   "cell_type": "code",
   "execution_count": 2,
   "metadata": {},
   "outputs": [],
   "source": [
    "# regex tokenizer\n",
    "PATTERN = r'''(?x)\n",
    "   (?:Ley\\sN[ºo°]*\\s\\d{1,}(?:\\.\\d+)*)                # Leyes como entidad\n",
    "   | (?:[Aa]nexo[s]?[\\sIVXLCDMy,]*[IVXLCDM]+)        # anexos\n",
    "   | (?:Nota[\\sA-Za-z()ºo°\\.]+[\\d|/]+)               # Notas como entidad\n",
    "   | (?:Decreto[A-Zºo°\\sa-z]+[\\d|/]+)                # Decretos como entidad\n",
    "   | (?:[Aa]rt[ií]culo[A-Z|\\sºo°]+\\d+º*)             # Articulos como entidad\n",
    "   | (?:[Aa]rt\\.*[\\s+\\d+]+º*)                        # abreviacion de articulo\n",
    "   | (?:Resoluci[óo]n[A-Zºo°\\sa-z]+[\\d/]+)           # Resoluciones como entidad\n",
    "   | (?:Disposici[óo]n[A-Zºo°\\sa-z]+[\\d/]+)          # Disposicion como entidad\n",
    "   | (?:Expediente[A-Zºo°\\s]+[\\d/]+)                 # Expediente como entidad\n",
    "   | (?:punto\\s[\\d\\.]+)                              # punto x.x.x. como entidad\n",
    "   | (?:\\d{1,2}[\\sa-z]+\\d{4})                        # fechas\n",
    "   | (?:[A-Z][a-záéíóú]+\\s[A-Z]\\.\\s[A-Z][a-záéíóú]+) # entidades humanas Fulano M. Mengano\n",
    "   | (?:MINISTERIO[\\sA-Z,]*[A-Z]+)                   # Ministerios como entidad\n",
    "   | (?:REPUBLICA[\\sDE]*[A-Z]+)                      # Republica como entidad\n",
    "   | (?:SECRETARIA[\\sA-Z,]*[A-Z]+)                   # Secretaria como entidad\n",
    "   | (?:SERVICIO[\\sA-Z,]*[A-Z]+)                     # Servicios como entidad\n",
    "   | (?:DIRECCION[\\sA-Z,]*[A-Z]+)                    # Direccion como entidad\n",
    "   | \\w+(?:-\\w+)*                                    # palabras con '-' opcional\n",
    "   | \\.\\.\\.                                          # ...\n",
    "   | [][.,;\"'?():-_`]\n",
    "   | (?:\\d+)                                         # numeros\n",
    "   | (?:[.\\n])                                       # punto y aparte\n",
    "'''\n",
    "\n",
    "# regex named entity\n",
    "IS_NE = r'''(?x)\n",
    "   (?:Ley\\sN[ºo°]*\\s\\d{1,}(?:\\.\\d+)*)                # Leyes como entidad\n",
    "   | (?:Nota[\\sA-Za-z()ºo°\\.]+[\\d|/]+)               # Notas como entidad\n",
    "   | (?:Decreto[A-Zºo°\\sa-z]+[\\d|/]+)                # Decretos como entidad\n",
    "   | (?:Resoluci[óo]n[A-Zºo°\\sa-z]+[\\d/]+)           # Resoluciones como entidad\n",
    "   | (?:Disposici[óo]n[A-Zºo°\\sa-z]+[\\d/]+)          # Disposicion como entidad\n",
    "   | (?:Expediente[A-Zºo°\\s]+[\\d/]+)                 # Expediente como entidad\n",
    "   | (?:punto\\s[\\d\\.]+)                              # punto x.x.x. como entidad\n",
    "   | (?:[A-Z][a-záéíóú]+\\s[A-Z]\\.\\s[A-Z][a-záéíóú]+) # entidades humanas Fulano M. Mengano\n",
    "   | (?:MINISTERIO[\\sA-Z,]*[A-Z]+)                   # Ministerios como entidad\n",
    "   | (?:REPUBLICA[\\sDE]*[A-Z]+)                      # Republica como entidad\n",
    "   | (?:SECRETARIA[\\sA-Z,]*[A-Z]+)                   # Secretaria como entidad\n",
    "   | (?:SERVICIO[\\sA-Z,]*[A-Z]+)                     # Servicios como entidad\n",
    "   | (?:DIRECCION[\\sA-Z,]*[A-Z]+)                    # Direccion como entidad\n",
    "'''"
   ]
  },
  {
   "cell_type": "code",
   "execution_count": 3,
   "metadata": {},
   "outputs": [],
   "source": [
    "text = [i for i in os.listdir('corpus') if i.endswith('txt')]\n",
    "raw_text = ''\n",
    "for txt in text:\n",
    "    with open(f'corpus/{txt}', 'r') as f:\n",
    "        raw_text += f.read() + '\\n'\n"
   ]
  },
  {
   "cell_type": "code",
   "execution_count": 4,
   "metadata": {},
   "outputs": [],
   "source": [
    "class RegexTokenizer:\n",
    "    def __init__(self, vocab):\n",
    "        self.vocab = vocab\n",
    "\n",
    "    def __call__(self, text):\n",
    "        words = re.findall(IS_NE, text)\n",
    "        spaces = [True] * len(words)\n",
    "        return Doc(self.vocab, words=words, spaces=spaces)"
   ]
  },
  {
   "cell_type": "code",
   "execution_count": 17,
   "metadata": {},
   "outputs": [],
   "source": [
    "class InfolegFeatureExtractor:\n",
    "    def __init__(self, tokenizer=None, spacy_model='es_core_news_sm'):\n",
    "        self._nlp = spacy.load(spacy_model)\n",
    "        self.vocabulary = []\n",
    "        self._nlp.tokenizer = tokenizer(self._nlp.vocab)\n",
    "        \n",
    "    def _processing(self, text):\n",
    "        return [t for t in self._nlp(text)]\n",
    "            \n",
    "    def _make_feature_dict(self, doc):\n",
    "        document_features = []\n",
    "        \n",
    "        for i, token in enumerate(doc):\n",
    "            features = {\n",
    "                'word': token.text,\n",
    "                'pword': '<s>',\n",
    "                'nword': '</s>',\n",
    "                'pword_tag': 'first',\n",
    "                'nword_tag': 'last',\n",
    "                'word_tag': token.pos_,\n",
    "            }\n",
    "            if 0 < i:\n",
    "                features['pword'] = doc[i-1].text\n",
    "                features['pword_tag'] = doc[i-1].pos_\n",
    "            if i < len(doc) - 1:\n",
    "                features['nword'] = doc[i+1].text\n",
    "                features['nword_tag'] = doc[i+1].pos_\n",
    "\n",
    "            document_features.append(features)\n",
    "            self.vocabulary.append(token.text)\n",
    "        return document_features\n",
    "    \n",
    "    def fit(self, X, y=None):\n",
    "        return self \n",
    "    \n",
    "    def _merge_features(self, feats):\n",
    "        features = defaultdict(list)\n",
    "        merged_dicts = []\n",
    "        for feature in feats:\n",
    "            features[feature.pop('word')].append(feature)\n",
    "        for f in features.values():\n",
    "            dd = defaultdict(str)\n",
    "            for d in f:\n",
    "                for key, value in d.items():\n",
    "                    dd[key] += ' ' + value\n",
    "            merged_dicts.append(dd)\n",
    "        return merged_dicts\n",
    "\n",
    "        \n",
    "    def transform(self, text, y=None):\n",
    "        tokens = self._processing(text)\n",
    "        features = self._make_feature_dict(tokens)\n",
    "        merged_features = self._merge_features(features)\n",
    "        return np.array(merged_features)\n"
   ]
  },
  {
   "cell_type": "code",
   "execution_count": 18,
   "metadata": {},
   "outputs": [],
   "source": [
    "class ExtendedKMeans(KMeans):\n",
    "    def get_clusters(self, vocabulary):\n",
    "        clusters = defaultdict(set)\n",
    "        added_words = set()\n",
    "        for i, label in enumerate(self.labels_):\n",
    "            if vocabulary[i] not in added_words:\n",
    "                clusters[label].add(vocabulary[i])\n",
    "                added_words.add(vocabulary[i])\n",
    "        return dict(clusters).values()"
   ]
  },
  {
   "cell_type": "code",
   "execution_count": 27,
   "metadata": {},
   "outputs": [],
   "source": [
    "## Configs for each pipeline step\n",
    "\n",
    "f_e_config = {\n",
    "    'tokenizer' : RegexTokenizer,\n",
    "}\n",
    "\n",
    "vectorizer_config = {\n",
    "        'sparse': False,\n",
    "}\n",
    "\n",
    "svd_config = {\n",
    "        'n_components': 6,\n",
    "        'n_iter': 5,\n",
    "}\n",
    "kmeans_config = {\n",
    "        'n_clusters': 8,\n",
    "        'init': 'k-means++',\n",
    "        'precompute_distances': False,\n",
    "}\n"
   ]
  },
  {
   "cell_type": "code",
   "execution_count": 28,
   "metadata": {},
   "outputs": [
    {
     "data": {
      "text/plain": [
       "Pipeline(memory=None,\n",
       "     steps=[('preprocessor', <__main__.InfolegFeatureExtractor object at 0x7f25b56c14a8>), ('vect', DictVectorizer(dtype=<class 'numpy.float64'>, separator='=', sort=True,\n",
       "        sparse=False)), ('svd', TruncatedSVD(algorithm='randomized', n_components=6, n_iter=5,\n",
       "       random_state=None, tol=0.0)), (...nit=10, n_jobs=None, precompute_distances=False,\n",
       "        random_state=None, tol=0.0001, verbose=0))])"
      ]
     },
     "execution_count": 28,
     "metadata": {},
     "output_type": "execute_result"
    }
   ],
   "source": [
    "pipeline = Pipeline([\n",
    "                ('preprocessor', InfolegFeatureExtractor(**f_e_config)),\n",
    "                ('vect', DictVectorizer(**vectorizer_config)),\n",
    "                ('svd', TruncatedSVD(**svd_config)),\n",
    "                ('kmeans', ExtendedKMeans(**kmeans_config)),\n",
    "    \n",
    "            ])\n",
    "pipeline.fit(raw_text)"
   ]
  },
  {
   "cell_type": "code",
   "execution_count": 29,
   "metadata": {},
   "outputs": [],
   "source": [
    "vocabulary = pipeline.named_steps['preprocessor'].vocabulary\n",
    "clusters = pipeline.named_steps['kmeans'].get_clusters(vocabulary)"
   ]
  },
  {
   "cell_type": "code",
   "execution_count": 30,
   "metadata": {},
   "outputs": [
    {
     "name": "stdout",
     "output_type": "stream",
     "text": [
      "{'SECRETARIA DE AGRICULTURA, GANADERIA Y PESCA', 'punto 3.4', 'Resolución N° 80/2009', 'Ley Nº 24.240', 'punto 3.2.'}\n",
      "{'punto 3.1', 'Notas ENRG/', 'SECRETARIA DE ESTADO DE AGRICULTURA Y GANADERIA', 'punto 9.4.2.', 'SECRETARIA DE ENERGIA', 'SECRETARIA DE COMBUSTIBLES', 'SERVICIOS', 'MINISTERIO DE ECONOMIA', 'Resolución 3208/2005', 'Decreto Nº 583', 'Disposición Nº 27', 'Resolución Nº 265', 'Resolución Nº 91/11', 'Resolución SECRETARIA DE ENERGIA Nº 265/2004', 'punto 9.4.2.7.', 'Nota ENRG Nº 2975/2004', 'MINISTERIO DE ECONOMIA Y FINANZAS PUBLICAS', 'Resolución Nº 369', 'DIRECCION GENERAL DE ADUANAS\\nR', 'SERVICIOS PUBLICOS DOMICILIARIOS\\nARTICULO', 'punto 3.2', 'Decreto N° 652', 'SECRETARIA DE AGRICULTURA, PESCA Y ALIMENTACION', 'Resolución 208', 'Resolución Nº 834/02', 'Expediente ENARGAS Nº 8043', 'Decreto Nº 181/04', 'Decreto Nº 180', 'punto 9.4.2.3.', 'Decreto Nacional Nº 270/97', 'SECRETARIA DE AGRICULTURA, GANADERIA, PESCA Y ALIMENTOS', 'Decretos Nº 180', 'punto 9.4.2.2.', 'Resolución Nº 736', 'MINISTERIO DE PLANIFICACION FEDERAL, INVERSION PUBLICA Y SERVICIOS', 'punto 3.3', 'SERVICIO NACIONAL DE SANIDAD Y CALIDAD AGROALIMENTARIA', 'Decreto Nº 181/2004', 'Resolución MPFIPyS Nº 208/2004', 'Ley No 24.076', 'Ley N° 26.993', 'MINISTERIO DE PRODUCCION', 'Ley Nº 25.972', 'Ley N° 27.266', 'Decreto PEN Nº 181/04', 'Ley Nº 3959', 'Ley Nº 22.802', 'Resolución Nº 834', 'Ley Nº 24.076', 'Ley Nº 25.156', 'SERVICIOS\\nARTICULO', 'Ley Nº 25.790', 'Ley N° 27.265', 'Decreto N° 27/2018'}\n",
      "{'Ley N° 26.994', 'REPUBLICA ARGENTINA', 'Ley N° 27.077', 'Ley Nº 24.787', 'Decreto Nº 2102'}\n",
      "{'SERVICIO NACIONAL DE SANIDAD ANIMAL', 'DIRECCION GENERAL DE ADUANAS', 'Expediente ENARGAS Nº 9483', 'punto 9.4.2.5.', 'MINISTERIO DE ECONOMIA Y PRODUCCION', 'Carlos A. Cheppi', 'Ley N° 26.361', 'Ley Nº 24.999', 'Resolución N° 1/2018', 'Ley Nº 25.561', 'DIRECCION GENERAL DE ADUANAS\\nRESUELVE', 'Resolución N° 30/2012'}\n",
      "{'MINISTERIO DE LA PRODUCCION', 'punto 7', 'Resolución SENASA Nº 834/2002', 'Resolución N° 91/2011', 'Decreto N° 618', 'Decreto Nacional Nº 2089/93', 'Decreto Nº 1585'}\n",
      "{'Decreto N° 565/2008'}\n",
      "{'Resolución SECRETARIA DE ENERGIA Nº 659/2004', 'Disposición de la SUBSECRETARIA DE COMBUSTIBLES Nº 27', 'Ley N° 27.250', 'Resolución N° 15/2009', 'Expediente Nº 5008/2004', 'Resolución 474/2009', 'Resolución Nº 510', 'Disposición SSC Nº 27', 'Resolución Nº 1067', 'Decretos Nº 1738', 'Resolución Nº 422', 'Resolución Nº 108', 'Resolución Nº 779', 'Decreto Nº 3909', 'SECRETARIA DE AGRICULTURA, GANADERIA, PESCA Y ALIMENTACION', 'Resolución Nº 208/04', 'Resolución Nº 28/2011', 'punto 14', 'Ley Nº 17.160'}\n",
      "{'Decreto Nº 643', 'Ley Nº 24.568', 'María S. Tirabassi', 'Resolución N° 17/2010', 'MINISTERIO DE ECONOMIA Y OBRAS Y SERVICIOS PUBLICOS'}\n"
     ]
    }
   ],
   "source": [
    "for i in clusters:\n",
    "    print(i)"
   ]
  },
  {
   "cell_type": "code",
   "execution_count": null,
   "metadata": {},
   "outputs": [],
   "source": []
  }
 ],
 "metadata": {
  "kernelspec": {
   "display_name": "Python 3",
   "language": "python",
   "name": "python3"
  },
  "language_info": {
   "codemirror_mode": {
    "name": "ipython",
    "version": 3
   },
   "file_extension": ".py",
   "mimetype": "text/x-python",
   "name": "python",
   "nbconvert_exporter": "python",
   "pygments_lexer": "ipython3",
   "version": "3.7.3"
  }
 },
 "nbformat": 4,
 "nbformat_minor": 4
}
